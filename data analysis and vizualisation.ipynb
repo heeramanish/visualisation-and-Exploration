{
 "cells": [
  {
   "cell_type": "markdown",
   "metadata": {},
   "source": [
    "# FIT5145 - Introduction to Data Science \n",
    "## Assignment 1\n",
    "\n",
    "The aim of this assignment is to investigate and visualise data using various data science tools. It will test your ability to:\n",
    "1. read data files in Python and extract related data from those files;\n",
    "2. wrangle and process data;\n",
    "3. use various graphical and non-graphical tools to perform exploratory data analysis and visualisation;\n",
    "4. use basic tools for managing and processing big data; and\n",
    "5. communicate your findings in your report.\n",
    "\n",
    "You will need to submit two files:\n",
    "1. The Python code as a Jupyter notebook file that you wrote to analyse and plot the data.\n",
    "2. A PDF of your Jupyter notebook file containing your answers (code, figures and answers to all the questions). Make sure to include screenshots/images of the graphs you generate in order to justify your answers to all the questions. Marks will be assigned to PDF reports based on their correctness and clarity. -- For example, higher marks will be given to PDF reports containing graphs with appropriately labelled axes.\n",
    "\n",
    "IMPORTANT NOTE - Zip file submission will have a penalty of 10%. Do not submit the separate files requested above together in one Zip file. As indicated in the rubric, marks will be deducted for this because it adds significantly to the time it takes for the markers to open up and access your assignments given that there are many students in this class.\n",
    "\n",
    "## Tasks\n",
    "\n",
    "There are two tasks that you need to complete for this assignment, Task A and Task B. You need to use Python to complete the tasks.\n",
    "\n",
    "## Task A - Who are Data Scientists? Data Scientist Demographics\n",
    "\n",
    "*'What does a does a Data Scientist look like?'*, *'What is Data Science exactly?'*, *'Is Python or R better to learn for beginners?'*, *'Do you have to have a degree in Computer Science to be a Data Scientist?'* and *'Do data scientists earn as much as I think?'*.\n",
    "\n",
    "Anjul Bhambri, the Vice Preseident of big data prodcts at IBM says this \n",
    "\n",
    ">*‘A data scientist is somebody who is inquisitive, who can stare at data and spot trends. It’s almost like a Renaissance individual who really wants to learn and bring change to an organisation.’*\n",
    "\n",
    "In this course, you have learned that the diversity in definitions, skill sets, tools, applications and knowledge domains that make data science challenging to define precisely. By completing the following questions, we hope you can get a more precise understanding. \n",
    "\n",
    "**The Data**\n",
    "\n",
    "Kaggle is the home of analytics and predictive modelling competitions. Data Science enthusiast, beginners to professionals, compete to create the best predictive models using datasets uploaded both by individuals and companies looking for insights. Prizes can be as high as $3 million US. In late 2017 a survey of Kaggle users was conducted and received over 16,700 responses. The dataset was, of course, made public and many insights have emerged since. We have taken a portion of the data set and heavily modified the data. Both to clean the data, a significant component of data science and to ensure original assignment submission.\n",
    "\n",
    "**Your Job**\n",
    "\n",
    "The following notebook has been constructed to provide you with directions (<span style=\"color: blue\">blue</span>), assessed questions (<span style=\"color: brown\">brown</span>) and background information. Responses to both blue directions and brown questions are assessable.\n",
    "\n",
    "You will be required to write your own code. Underneath direction boxes, there will be empty cells with the comment <span style=\"color: green\">#Your code</span>. Insert new cells under this cell if required.\n",
    "\n",
    "To respond to questions you should double click on the cell beneath each question with the comment <span style=\"color: green\">Answer</span>.\n",
    "\n",
    "Please note, your commenting and adherence to Python code standards will be marked. This notebook has been designed to give you a template for how we expect Python Notebooks to be submitted for assessment. If you require further information on Python standards, please visit https://www.python.org/dev/peps/pep-0008/ \n",
    "Do not change any of the directions or answer boxes, the order of questions, order of code entry cells or the name of the input files. \n",
    "\n",
    "**The Files**\n",
    "\n",
    "- *multipleChoiceResponses.csv * : Participants' answers to multiple choice questions. Each column contains the answers of one respondent to a specific question.                         \n",
    "- *conversionRates.csv* : Currency conversion rates to USD. \n",
    "\n"
   ]
  },
  {
   "cell_type": "markdown",
   "metadata": {},
   "source": [
    " <div class=\"alert alert-block alert-info\">\n",
    "** Your Information** \n",
    "Enter your information in the following cell. Please make sure you specify what version of python you are using as your tutor may not be using the same version and will adjust your code accordingly.  "
   ]
  },
  {
   "cell_type": "markdown",
   "metadata": {},
   "source": [
    "## Student Information\n",
    "<a id=\"Student Information\"></a> \n",
    "Please enter your details here. \n",
    "#### Name: Manish Heera\n",
    "#### Student number: 29833604\n",
    "#### Tutorial Day and Time: Wednesday 10 - 12 \n",
    "#### Tutor: Zhinoos Razavi Hesabi\n",
    "#### Environment: Python 3.6 (32 bit) and *Distribution ( Anaconda 5.3.0 (32-bit))* "
   ]
  },
  {
   "cell_type": "markdown",
   "metadata": {
    "_cell_guid": "c82f465b-c452-4cfb-b9f3-df726ab7ad2b",
    "_uuid": "d39564daed3ef49aaf00b5582e23e354c4f32d2e"
   },
   "source": [
    "# Table of contents\n",
    "\n",
    "* [Student Information](#Student Information)\n",
    "* [1. Demographic analysis](#demographics)\n",
    "   * [1.1. Age](#age)\n",
    "   * [1.2. Gender](#gender)\n",
    "   * [1.3. Country](#country)\n",
    "* [2. Education](#education)\n",
    "    * [2.1. Formal education](#formal)\n",
    "* [3. Employment](#employment)\n",
    "    * [3.1. Employment Status](#status)\n",
    "* [4. Salary](#salary)\n",
    "    * [4.1. Salary overview](#overview)\n",
    "    * [4.2. Salary by country](#countrysal)\n",
    "    * [4.3. Salary and gender](#gender_salary)\n",
    "    * [4.4. Salary and formal education](#education_salary)\n",
    "    * [4.5. Salary and job](#salary_job)\n",
    "* [5. Predicting Salary](#pred)\n"
   ]
  },
  {
   "cell_type": "markdown",
   "metadata": {
    "_cell_guid": "06c9b38b-000e-4b8a-95f0-65a93bb332f2",
    "_uuid": "2bfa8ca86a226c9900a67a02236a072274bc0d18"
   },
   "source": [
    "## 0. Load your libraries and files\n",
    "<a id=\"Load data\"></a>\n",
    "***\n"
   ]
  },
  {
   "cell_type": "markdown",
   "metadata": {},
   "source": [
    " <div class=\"alert alert-block alert-info\">\n",
    "1. ** Load your libraries and files** \n",
    "\n",
    "This assesment will be conducted using pandas. You will also be required to create visualisations. We recomend Seaborn which is more visually appealing than matplotlib. However, you may choose either. For further information on Seaborn visit https://seaborn.pydata.org/\n",
    "\n",
    "*Hint: Remember to comment what each library does.* "
   ]
  },
  {
   "cell_type": "code",
   "execution_count": 48,
   "metadata": {
    "_cell_guid": "bf6d21b3-22d5-48e4-8a62-a50ef36bae42",
    "_kg_hide-input": true,
    "_kg_hide-output": false,
    "_uuid": "76567470049e7d7e878b76d72e81858f56bdbd2a",
    "scrolled": true
   },
   "outputs": [],
   "source": [
    "#loading libraries \n",
    "import numpy as np    #python extension module, used to provide fast and efficient operation on homogenous data type\n",
    "import pandas as pd   # importing the library pandas and reference it as pd\n",
    "                      # pandas are software programming library used in python for data manupulationa and analysis\n",
    "import seaborn as sns # importing the library seaborn and reference it as sns, used for statistical graphics in python\n",
    "import matplotlib.pyplot as plt #importing the plotting module matplot and referncing it as plt\n",
    "\n",
    "#to view the plots in the jupyter notebook itself using matplotlib\n",
    "%matplotlib inline    \n",
    "\n"
   ]
  },
  {
   "cell_type": "markdown",
   "metadata": {
    "_cell_guid": "06c9b38b-000e-4b8a-95f0-65a93bb332f2",
    "_uuid": "2bfa8ca86a226c9900a67a02236a072274bc0d18"
   },
   "source": [
    "## 1. Demographic Analysis\n",
    "<a id=\"demographics\"></a>\n",
    "***\n",
    "##### So what does a data scientist look like?\n",
    "\n",
    "Let's get a general understanding of the characteristics of the survey participants. Demographic overviews are a standard way to start an exploration of survey data. The types of participants can heavily affect the survey responses.\n",
    "\n",
    "### 1.1 Age\n",
    "<a id=\"age\"></a>\n",
    "Visualisation is a quick and easy way to gain an overview of the data. One method is through a boxplot. Boxplots are a way to show the distribution of numerical data and display the five descriptive statistics: minimum, first quartile, median, third quartile, and maximum. Outliers should also be shown."
   ]
  },
  {
   "cell_type": "markdown",
   "metadata": {},
   "source": [
    " <div class=\"alert alert-block alert-info\">\n",
    "2 Create a box plot showing the age of all the participants.\n",
    "\n",
    "Your plot must have labels for each axis, a title, numerical points for the age axis and also show the outliers. "
   ]
  },
  {
   "cell_type": "code",
   "execution_count": 5,
   "metadata": {
    "scrolled": true
   },
   "outputs": [
    {
     "data": {
      "image/png": "[encoded data removed]",
      "text/plain": [
       "<Figure size 432x288 with 1 Axes>"
      ]
     },
     "metadata": {
      "needs_background": "light"
     },
     "output_type": "display_data"
    }
   ],
   "source": [
    "\n",
    "response = pd.read_csv('multipleChoiceResponses.csv', sep=',') #reading the multipleChioceResponses.csv\n",
    "#file into pandas dataframe\n",
    "\n",
    "#boxplot, where x axis represents Age, and set_title function is used to label the plot\n",
    "plot = sns.boxplot(x = response ['Age']).set_title('Age of Participants')\n",
    "\n",
    "\n"
   ]
  },
  {
   "cell_type": "markdown",
   "metadata": {},
   "source": [
    " <div class=\"alert alert-block alert-warning\">\n",
    "3. Calculate the five descriptive statistics as shown on the boxplot, as well as the mean\n",
    "\n",
    "Round your answer to the nearest whole number."
   ]
  },
  {
   "cell_type": "code",
   "execution_count": 6,
   "metadata": {},
   "outputs": [
    {
     "data": {
      "text/plain": [
       "34"
      ]
     },
     "execution_count": 6,
     "metadata": {},
     "output_type": "execute_result"
    }
   ],
   "source": [
    "#minimum outliners :\n",
    "#maximum outliners :\n",
    "#median            :\n",
    "#first quartile (the middle number between the smallest number (not the “minimum”) and the median of the dataset)\n",
    "#third quartile (the middle value between the median and the highest value (not the “maximum”) of the dataset)\n",
    "\n",
    "response['Age'].median()  #calculating median: 32.0\n",
    "response['Age'].max()    #calculating max value: 78\n",
    "response['Age'].min()    #calculating min value: 20\n",
    "meanAge = response['Age'].mean()  #calcultaing the mean of the age column and storing result in meanAge: 34.2714\n",
    "round(meanAge)  # rounds off the number to the nearest integer using round funtion \n"
   ]
  },
  {
   "cell_type": "markdown",
   "metadata": {},
   "source": [
    "<span style=\"color: green\">**Answer**</span>\n",
    "\n",
    "It can be depicted from the above calculation that:\n",
    "WE have median vlaue as 32\n",
    "max value: 78\n",
    "min value: 20\n",
    "we are using round function to round about the value for the mean Age"
   ]
  },
  {
   "cell_type": "markdown",
   "metadata": {},
   "source": [
    " <div class=\"alert alert-block alert-warning\">\n",
    "4. Looking at the boxplot what general conclusion can you make about the age of the participants?\n",
    "\n",
    "You must explain your answer concerning the median, minimum and maximum age of the respondents. You must also make mention of the outliers if there are any. \n"
   ]
  },
  {
   "cell_type": "markdown",
   "metadata": {},
   "source": [
    "<span style=\"color: green\">**Answer**</span>\n",
    "\n",
    "Following information can be depicted from the box plot:\n",
    "\n",
    "1. Median is 32, which is the middle value of our dataset\n",
    "2. First quartile is about 27\n",
    "3. Third quartile is almost 40 (39 approx)\n",
    "4. Maximum Age is 78, can be seen in the plot \n",
    "5. Minimum Age is 20\n",
    "6. Outlier, observation point distant from other observation, in above boxplot i have got few outliners the extreme one has the \n",
    "   value same as maximum value for Age.\n"
   ]
  },
  {
   "cell_type": "markdown",
   "metadata": {},
   "source": [
    " <div class=\"alert alert-block alert-warning\">\n",
    "5. Regardless of the errors that the data show, we are interested in working-age data scientists, aged between 18 and 65.  \n",
    "\n",
    "How many respondents were under 18 or over 65?"
   ]
  },
  {
   "cell_type": "code",
   "execution_count": 7,
   "metadata": {},
   "outputs": [
    {
     "name": "stderr",
     "output_type": "stream",
     "text": [
      "C:\\ProgramData\\Anaconda3\\lib\\site-packages\\pandas\\core\\groupby\\groupby.py:4656: FutureWarning: using a dict with renaming is deprecated and will be removed in a future version\n",
      "  return super(DataFrameGroupBy, self).aggregate(arg, *args, **kwargs)\n"
     ]
    },
    {
     "data": {
      "text/html": [
       "<div>\n",
       "<style scoped>\n",
       "    .dataframe tbody tr th:only-of-type {\n",
       "        vertical-align: middle;\n",
       "    }\n",
       "\n",
       "    .dataframe tbody tr th {\n",
       "        vertical-align: top;\n",
       "    }\n",
       "\n",
       "    .dataframe thead th {\n",
       "        text-align: right;\n",
       "    }\n",
       "</style>\n",
       "<table border=\"1\" class=\"dataframe\">\n",
       "  <thead>\n",
       "    <tr style=\"text-align: right;\">\n",
       "      <th></th>\n",
       "      <th>CurrentJobTitleSelect</th>\n",
       "      <th>Under 18</th>\n",
       "      <th>Over 65</th>\n",
       "    </tr>\n",
       "  </thead>\n",
       "  <tbody>\n",
       "    <tr>\n",
       "      <th>0</th>\n",
       "      <td>Business Analyst</td>\n",
       "      <td>0</td>\n",
       "      <td>2</td>\n",
       "    </tr>\n",
       "    <tr>\n",
       "      <th>1</th>\n",
       "      <td>Computer Scientist</td>\n",
       "      <td>0</td>\n",
       "      <td>1</td>\n",
       "    </tr>\n",
       "    <tr>\n",
       "      <th>2</th>\n",
       "      <td>DBA/Database Engineer</td>\n",
       "      <td>0</td>\n",
       "      <td>1</td>\n",
       "    </tr>\n",
       "    <tr>\n",
       "      <th>3</th>\n",
       "      <td>Data Analyst</td>\n",
       "      <td>0</td>\n",
       "      <td>0</td>\n",
       "    </tr>\n",
       "    <tr>\n",
       "      <th>4</th>\n",
       "      <td>Data Miner</td>\n",
       "      <td>0</td>\n",
       "      <td>0</td>\n",
       "    </tr>\n",
       "    <tr>\n",
       "      <th>5</th>\n",
       "      <td>Data Scientist</td>\n",
       "      <td>0</td>\n",
       "      <td>4</td>\n",
       "    </tr>\n",
       "    <tr>\n",
       "      <th>6</th>\n",
       "      <td>Engineer</td>\n",
       "      <td>0</td>\n",
       "      <td>2</td>\n",
       "    </tr>\n",
       "    <tr>\n",
       "      <th>7</th>\n",
       "      <td>Machine Learning Engineer</td>\n",
       "      <td>0</td>\n",
       "      <td>1</td>\n",
       "    </tr>\n",
       "    <tr>\n",
       "      <th>8</th>\n",
       "      <td>Operations Research Practitioner</td>\n",
       "      <td>0</td>\n",
       "      <td>0</td>\n",
       "    </tr>\n",
       "    <tr>\n",
       "      <th>9</th>\n",
       "      <td>Other</td>\n",
       "      <td>0</td>\n",
       "      <td>2</td>\n",
       "    </tr>\n",
       "    <tr>\n",
       "      <th>10</th>\n",
       "      <td>Predictive Modeler</td>\n",
       "      <td>0</td>\n",
       "      <td>0</td>\n",
       "    </tr>\n",
       "    <tr>\n",
       "      <th>11</th>\n",
       "      <td>Programmer</td>\n",
       "      <td>0</td>\n",
       "      <td>0</td>\n",
       "    </tr>\n",
       "    <tr>\n",
       "      <th>12</th>\n",
       "      <td>Researcher</td>\n",
       "      <td>0</td>\n",
       "      <td>2</td>\n",
       "    </tr>\n",
       "    <tr>\n",
       "      <th>13</th>\n",
       "      <td>Scientist/Researcher</td>\n",
       "      <td>0</td>\n",
       "      <td>2</td>\n",
       "    </tr>\n",
       "    <tr>\n",
       "      <th>14</th>\n",
       "      <td>Software Developer/Software Engineer</td>\n",
       "      <td>0</td>\n",
       "      <td>2</td>\n",
       "    </tr>\n",
       "    <tr>\n",
       "      <th>15</th>\n",
       "      <td>Statistician</td>\n",
       "      <td>0</td>\n",
       "      <td>0</td>\n",
       "    </tr>\n",
       "  </tbody>\n",
       "</table>\n",
       "</div>"
      ],
      "text/plain": [
       "                   CurrentJobTitleSelect  Under 18  Over 65\n",
       "0                       Business Analyst         0        2\n",
       "1                     Computer Scientist         0        1\n",
       "2                  DBA/Database Engineer         0        1\n",
       "3                           Data Analyst         0        0\n",
       "4                             Data Miner         0        0\n",
       "5                         Data Scientist         0        4\n",
       "6                               Engineer         0        2\n",
       "7              Machine Learning Engineer         0        1\n",
       "8       Operations Research Practitioner         0        0\n",
       "9                                  Other         0        2\n",
       "10                    Predictive Modeler         0        0\n",
       "11                            Programmer         0        0\n",
       "12                            Researcher         0        2\n",
       "13                  Scientist/Researcher         0        2\n",
       "14  Software Developer/Software Engineer         0        2\n",
       "15                          Statistician         0        0"
      ]
     },
     "execution_count": 7,
     "metadata": {},
     "output_type": "execute_result"
    }
   ],
   "source": [
    "\n",
    "e = response[['Age','CurrentJobTitleSelect']] # getting age and job column and storing it into e variable\n",
    "\n",
    "#applying lambda function to count the age under 18 and over 65\n",
    "age_dataScientist = {'Age':{'Under 18': lambda x: sum(e<18 for e in x ) , 'Over 65': lambda y: sum(e>65 for e in y)  }}\n",
    "groupbyJob = e.groupby('CurrentJobTitleSelect').agg(age_dataScientist).reset_index()\n",
    "groupbyJob.columns = groupbyJob.columns.droplevel(0)        # drop the top level in column hierarchy\n",
    "groupbyJob.rename(columns = {'':'CurrentJobTitleSelect'},inplace = True) #rena,ing the column\n",
    "groupbyJob"
   ]
  },
  {
   "cell_type": "markdown",
   "metadata": {},
   "source": [
    "<span style=\"color: green\">**Answer**</span>\n",
    "\n",
    "19 Respondands were over 65 years old where as, none were under 18"
   ]
  },
  {
   "cell_type": "markdown",
   "metadata": {},
   "source": [
    "### 1.2 Gender\n",
    "<a id=\"gender\"></a>\n",
    "We are interested in the gender of respondents. Within the STEM fields, there are more males than females or other genders. In 2016 the Office of the chief scientist found that women held only 25% of jobs in STEM. Let's see how data science compares. "
   ]
  },
  {
   "cell_type": "markdown",
   "metadata": {
    "_cell_guid": "4b0c5cbc-a703-4b39-95bd-510f07ece6c0",
    "_uuid": "214cae932a19a586e341914443aa89e62009e6c4"
   },
   "source": [
    " <div class=\"alert alert-block alert-info\">\n",
    "\n",
    "6. Plot the gender distribution of survey participants."
   ]
  },
  {
   "cell_type": "code",
   "execution_count": 8,
   "metadata": {},
   "outputs": [
    {
     "data": {
      "text/plain": [
       "<matplotlib.axes._subplots.AxesSubplot at 0x153414f6a58>"
      ]
     },
     "execution_count": 8,
     "metadata": {},
     "output_type": "execute_result"
    },
    {
     "data": {
      "image/png": "[encoded data removed]",
      "text/plain": [
       "<Figure size 432x288 with 1 Axes>"
      ]
     },
     "metadata": {
      "needs_background": "light"
     },
     "output_type": "display_data"
    }
   ],
   "source": [
    "#using countplot of seaborn to show the count of obseravtion\n",
    "\n",
    "plt.title('Gender Distribution Of Participants') #Setting the title of the plot\n",
    "sns.countplot(data = response, y = 'GenderSelect') #y axis as gender distribution at x axis we have response of the respondands\n"
   ]
  },
  {
   "cell_type": "markdown",
   "metadata": {},
   "source": [
    " <div class=\"alert alert-block alert-warning\">\n",
    "\n",
    "7. What percentage of respondants were men? What percentage of respondants were women?"
   ]
  },
  {
   "cell_type": "code",
   "execution_count": 9,
   "metadata": {},
   "outputs": [
    {
     "data": {
      "text/plain": [
       "14.15525114155251"
      ]
     },
     "execution_count": 9,
     "metadata": {},
     "output_type": "execute_result"
    }
   ],
   "source": [
    "# Your code\n",
    "\n",
    "#counting number of men\n",
    "male = response['GenderSelect'] == \"Male\" #storing boolean series in male, only Men will be stored\n",
    "response[\"new\"] = male #inserting new series in response dataframe\n",
    "Men = response[male]  #storing result for female response in Men\n",
    "Men['GenderSelect'].count() #selecting GenderSelect column from Men dataframe and counting the same\n",
    "\n",
    "#counting number of female \n",
    "female = response['GenderSelect'] == \"Female\" #storing boolean series in female\n",
    "response[\"new\"] = female #inserting new series in response dataframe\n",
    "Women = response[female] #storing result for female response in Women \n",
    "Women['GenderSelect'].count()\n",
    "\n",
    "#Adding the count for men and women and storing it into c\n",
    "c = Men['GenderSelect'].count() + Women['GenderSelect'].count()\n",
    "\n",
    "percentageMen = (Men['GenderSelect'].count() / c) * 100 #claculating the percentage of Men \n",
    "percentageMen # percentage of Men were 85.84\n",
    "percentageWomen = (Women['GenderSelect'].count() / c) * 100 #calculating the percentage of Women\n",
    "percentageWomen  #percentage of Women is 14.155\n",
    "\n"
   ]
  },
  {
   "cell_type": "markdown",
   "metadata": {},
   "source": [
    "<span style=\"color: green\">**Answer**</span>\n",
    " Percentage of men were: 85.84\n",
    "\n",
    "        Percentage of women were: 14.155\n"
   ]
  },
  {
   "cell_type": "markdown",
   "metadata": {
    "_cell_guid": "09958a50-ec25-434c-8b46-4582f01c83f5",
    "_kg_hide-input": false,
    "_uuid": "0a34eeb56a96fccf01cf5bdd7da791b136149fe0"
   },
   "source": [
    " <div class=\"alert alert-block alert-info\">\n",
    "8. Let's see if there is any relationship between age and gender.\n",
    "\n",
    "Create a box plot showing the age of all the participants according to gender.\n",
    "\n",
    "Include the response 'Different identity' in your plot."
   ]
  },
  {
   "cell_type": "code",
   "execution_count": 10,
   "metadata": {},
   "outputs": [
    {
     "data": {
      "image/png": "[encoded data removed]",
      "text/plain": [
       "<Figure size 432x288 with 1 Axes>"
      ]
     },
     "metadata": {
      "needs_background": "light"
     },
     "output_type": "display_data"
    }
   ],
   "source": [
    "#creating a boxplot with x axis as Age and y as Gender\n",
    "#x axis storing Age coulmn and y axis storing Gender\n",
    "#Using set_title to give title to the plot\n",
    "AgeVsGenderPlot = sns.boxplot(x = response ['Age'], #using seaborn libraray for plotting\n",
    "                              y = response['GenderSelect']).set_title('Boxplot Showing Relation Between Age and Gender')\n",
    "\n",
    "\n",
    "\n"
   ]
  },
  {
   "cell_type": "markdown",
   "metadata": {},
   "source": [
    " <div class=\"alert alert-block alert-warning\">\n",
    "\n",
    "9. What comments can you make about the relationship between the age and gender of the respondents?\n",
    "\n",
    "Hint: You need to determine the numeric descriptive statistics"
   ]
  },
  {
   "cell_type": "code",
   "execution_count": 11,
   "metadata": {},
   "outputs": [
    {
     "name": "stderr",
     "output_type": "stream",
     "text": [
      "C:\\ProgramData\\Anaconda3\\lib\\site-packages\\pandas\\core\\groupby\\groupby.py:4656: FutureWarning: using a dict with renaming is deprecated and will be removed in a future version\n",
      "  return super(DataFrameGroupBy, self).aggregate(arg, *args, **kwargs)\n"
     ]
    },
    {
     "data": {
      "text/html": [
       "<div>\n",
       "<style scoped>\n",
       "    .dataframe tbody tr th:only-of-type {\n",
       "        vertical-align: middle;\n",
       "    }\n",
       "\n",
       "    .dataframe tbody tr th {\n",
       "        vertical-align: top;\n",
       "    }\n",
       "\n",
       "    .dataframe thead tr th {\n",
       "        text-align: left;\n",
       "    }\n",
       "</style>\n",
       "<table border=\"1\" class=\"dataframe\">\n",
       "  <thead>\n",
       "    <tr>\n",
       "      <th></th>\n",
       "      <th colspan=\"2\" halign=\"left\">GenderSelect</th>\n",
       "      <th colspan=\"3\" halign=\"left\">Age</th>\n",
       "    </tr>\n",
       "    <tr>\n",
       "      <th></th>\n",
       "      <th></th>\n",
       "      <th>GenderSelect</th>\n",
       "      <th>Average Age</th>\n",
       "      <th>Oldest</th>\n",
       "      <th>Youngest</th>\n",
       "    </tr>\n",
       "  </thead>\n",
       "  <tbody>\n",
       "    <tr>\n",
       "      <th>0</th>\n",
       "      <td>A different identity</td>\n",
       "      <td>36</td>\n",
       "      <td>34.666667</td>\n",
       "      <td>68</td>\n",
       "      <td>22</td>\n",
       "    </tr>\n",
       "    <tr>\n",
       "      <th>1</th>\n",
       "      <td>Female</td>\n",
       "      <td>496</td>\n",
       "      <td>32.735887</td>\n",
       "      <td>62</td>\n",
       "      <td>20</td>\n",
       "    </tr>\n",
       "    <tr>\n",
       "      <th>2</th>\n",
       "      <td>Male</td>\n",
       "      <td>3008</td>\n",
       "      <td>34.637633</td>\n",
       "      <td>78</td>\n",
       "      <td>20</td>\n",
       "    </tr>\n",
       "  </tbody>\n",
       "</table>\n",
       "</div>"
      ],
      "text/plain": [
       "           GenderSelect                      Age                \n",
       "                        GenderSelect Average Age Oldest Youngest\n",
       "0  A different identity           36   34.666667     68       22\n",
       "1                Female          496   32.735887     62       20\n",
       "2                  Male         3008   34.637633     78       20"
      ]
     },
     "execution_count": 11,
     "metadata": {},
     "output_type": "execute_result"
    }
   ],
   "source": [
    "#As per boxplot we'll get the mean max and min values for the age of all three Gender catagories\n",
    "fun = {'GenderSelect':{'GenderSelect':'count'},'Age':{'Average Age':'mean','Oldest':'max','Youngest':'min'}}\n",
    "groupbyGender = response.groupby('GenderSelect').agg(fun).reset_index() #turning GenderSelect into column value\n",
    "groupbyGender\n"
   ]
  },
  {
   "cell_type": "markdown",
   "metadata": {},
   "source": [
    "<span style=\"color: green\">**Answer**</span>\n",
    "\n",
    "Amount three Gender catgories:\n",
    "\n",
    "Male has the maximum respondednts with oldest respondant having age as 78\n",
    "\n",
    "Youngest Male and Female is 20 years old"
   ]
  },
  {
   "cell_type": "markdown",
   "metadata": {},
   "source": [
    "### 1.3 Country\n",
    "<a id=\"country\"></a>\n",
    "We know that people practise data science all over the world. The United States is thought of as a 'hub' of commercial data science as well as research followed by the United Kingdom and Germany. \n",
    "\n",
    "Because the field is evolving so quickly, it may be that these perceptions, formed in the late 2000s are now inaccurate. So let's find out where data scientists live."
   ]
  },
  {
   "cell_type": "markdown",
   "metadata": {},
   "source": [
    " <div class=\"alert alert-block alert-info\">\n",
    "10. Create a bar graph of the respondants according to which country they are from.\n",
    "\n",
    "Find the percentage of respondants from the top 5 countries\n"
   ]
  },
  {
   "cell_type": "code",
   "execution_count": 12,
   "metadata": {
    "_cell_guid": "f3da614f-96e2-45d1-ba78-9d08a58fa136",
    "_kg_hide-input": true,
    "_uuid": "34afcf67184929a6de8358a13a961d0b9ad25b6c"
   },
   "outputs": [
    {
     "name": "stdout",
     "output_type": "stream",
     "text": [
      "Percentage of respondands from top 5 countries :  55.50847457627118\n"
     ]
    },
    {
     "data": {
      "image/png": "[encoded data removed]",
      "text/plain": [
       "<Figure size 1080x576 with 1 Axes>"
      ]
     },
     "metadata": {
      "needs_background": "light"
     },
     "output_type": "display_data"
    }
   ],
   "source": [
    "d = response[\"Country\"] #selecting the column with country name assigning it to d\n",
    "plt.figure(figsize = (15,8)) #using figure function to fix the size of the plot\n",
    "#setting the title for the bar plot\n",
    "plt.title('Respondants According to their Countries')\n",
    "#A count plot can be thought of as a histogram across a categorical, instead of quantitative, variable.\n",
    "#Showing count value all countries \n",
    "sns.countplot(data = response, y = 'Country')\n",
    "pd.value_counts(d)[:5] #top five country respondants\n",
    "TotalC = d.count() #count is respondants is 3540\n",
    "TopFC = pd.value_counts(d)[:5].sum() #sum of topfive respondants == 1965\n",
    "percentage = (TopFC / TotalC) * 100 #55.5\n",
    "\n",
    "print(\"Percentage of respondands from top 5 countries : \",percentage) #printing the percentage"
   ]
  },
  {
   "cell_type": "markdown",
   "metadata": {},
   "source": [
    "<span style=\"color: green\">**Answer**</span>\n",
    "\n",
    "Top five respondants:\n",
    "COUNTRY           COUNT\n",
    "United States     1126\n",
    "India              431\n",
    "United Kingdom     151\n",
    "Germany            130\n",
    "Brazil             127\n",
    "\n",
    "Total count = 3540 (For all respondants)\n",
    "percentage of top 5 countries = 55.5%"
   ]
  },
  {
   "cell_type": "markdown",
   "metadata": {},
   "source": [
    " <div class=\"alert alert-block alert-warning\">\n",
    "\n",
    "11. What comments can you make about our previous comments on the United States, United Kingdom and Europe?\n",
    "\n",
    "Are the majority of data scientists now likely to come from those countries?\n"
   ]
  },
  {
   "cell_type": "markdown",
   "metadata": {},
   "source": [
    "<span style=\"color: green\">**Answer**</span>\n",
    "\n",
    "United states have the maximum reponded and UK falls third in that category followed by Germany with count 1126 151 and 130 respectively"
   ]
  },
  {
   "cell_type": "markdown",
   "metadata": {},
   "source": [
    " <div class=\"alert alert-block alert-info\">\n",
    "12. Now that we have another demographic variable, let's see if there is any relationship between country, age and gender. We are specifically interested in the United States, India, United Kingdom, Germany and of course Australia!\n",
    "\n",
    "\n",
    "Write code to output the mean and median age for United States, India, United Kingdom, Germany and Australia.\n",
    "\n",
    "Hint: You may need to create a copy or slice."
   ]
  },
  {
   "cell_type": "code",
   "execution_count": 13,
   "metadata": {},
   "outputs": [
    {
     "name": "stderr",
     "output_type": "stream",
     "text": [
      "C:\\ProgramData\\Anaconda3\\lib\\site-packages\\pandas\\core\\groupby\\groupby.py:4656: FutureWarning: using a dict with renaming is deprecated and will be removed in a future version\n",
      "  return super(DataFrameGroupBy, self).aggregate(arg, *args, **kwargs)\n"
     ]
    },
    {
     "data": {
      "text/html": [
       "<div>\n",
       "<style scoped>\n",
       "    .dataframe tbody tr th:only-of-type {\n",
       "        vertical-align: middle;\n",
       "    }\n",
       "\n",
       "    .dataframe tbody tr th {\n",
       "        vertical-align: top;\n",
       "    }\n",
       "\n",
       "    .dataframe thead tr th {\n",
       "        text-align: left;\n",
       "    }\n",
       "\n",
       "    .dataframe thead tr:last-of-type th {\n",
       "        text-align: right;\n",
       "    }\n",
       "</style>\n",
       "<table border=\"1\" class=\"dataframe\">\n",
       "  <thead>\n",
       "    <tr>\n",
       "      <th></th>\n",
       "      <th></th>\n",
       "      <th colspan=\"2\" halign=\"left\">Age</th>\n",
       "    </tr>\n",
       "    <tr>\n",
       "      <th></th>\n",
       "      <th></th>\n",
       "      <th>Mean</th>\n",
       "      <th>Median</th>\n",
       "    </tr>\n",
       "    <tr>\n",
       "      <th>Country</th>\n",
       "      <th>GenderSelect</th>\n",
       "      <th></th>\n",
       "      <th></th>\n",
       "    </tr>\n",
       "  </thead>\n",
       "  <tbody>\n",
       "    <tr>\n",
       "      <th rowspan=\"2\" valign=\"top\">Australia</th>\n",
       "      <th>Female</th>\n",
       "      <td>35.000000</td>\n",
       "      <td>34.0</td>\n",
       "    </tr>\n",
       "    <tr>\n",
       "      <th>Male</th>\n",
       "      <td>37.158416</td>\n",
       "      <td>36.0</td>\n",
       "    </tr>\n",
       "    <tr>\n",
       "      <th rowspan=\"2\" valign=\"top\">Germany</th>\n",
       "      <th>Female</th>\n",
       "      <td>31.428571</td>\n",
       "      <td>29.0</td>\n",
       "    </tr>\n",
       "    <tr>\n",
       "      <th>Male</th>\n",
       "      <td>36.629310</td>\n",
       "      <td>34.0</td>\n",
       "    </tr>\n",
       "    <tr>\n",
       "      <th rowspan=\"3\" valign=\"top\">India</th>\n",
       "      <th>A different identity</th>\n",
       "      <td>22.000000</td>\n",
       "      <td>22.0</td>\n",
       "    </tr>\n",
       "    <tr>\n",
       "      <th>Female</th>\n",
       "      <td>29.061224</td>\n",
       "      <td>28.0</td>\n",
       "    </tr>\n",
       "    <tr>\n",
       "      <th>Male</th>\n",
       "      <td>29.553806</td>\n",
       "      <td>28.0</td>\n",
       "    </tr>\n",
       "    <tr>\n",
       "      <th rowspan=\"3\" valign=\"top\">United Kingdom</th>\n",
       "      <th>A different identity</th>\n",
       "      <td>36.000000</td>\n",
       "      <td>36.0</td>\n",
       "    </tr>\n",
       "    <tr>\n",
       "      <th>Female</th>\n",
       "      <td>33.636364</td>\n",
       "      <td>33.0</td>\n",
       "    </tr>\n",
       "    <tr>\n",
       "      <th>Male</th>\n",
       "      <td>35.811024</td>\n",
       "      <td>33.0</td>\n",
       "    </tr>\n",
       "    <tr>\n",
       "      <th rowspan=\"3\" valign=\"top\">United States</th>\n",
       "      <th>A different identity</th>\n",
       "      <td>38.727273</td>\n",
       "      <td>43.0</td>\n",
       "    </tr>\n",
       "    <tr>\n",
       "      <th>Female</th>\n",
       "      <td>34.370892</td>\n",
       "      <td>31.0</td>\n",
       "    </tr>\n",
       "    <tr>\n",
       "      <th>Male</th>\n",
       "      <td>36.906874</td>\n",
       "      <td>34.0</td>\n",
       "    </tr>\n",
       "  </tbody>\n",
       "</table>\n",
       "</div>"
      ],
      "text/plain": [
       "                                           Age       \n",
       "                                          Mean Median\n",
       "Country        GenderSelect                          \n",
       "Australia      Female                35.000000   34.0\n",
       "               Male                  37.158416   36.0\n",
       "Germany        Female                31.428571   29.0\n",
       "               Male                  36.629310   34.0\n",
       "India          A different identity  22.000000   22.0\n",
       "               Female                29.061224   28.0\n",
       "               Male                  29.553806   28.0\n",
       "United Kingdom A different identity  36.000000   36.0\n",
       "               Female                33.636364   33.0\n",
       "               Male                  35.811024   33.0\n",
       "United States  A different identity  38.727273   43.0\n",
       "               Female                34.370892   31.0\n",
       "               Male                  36.906874   34.0"
      ]
     },
     "execution_count": 13,
     "metadata": {},
     "output_type": "execute_result"
    }
   ],
   "source": [
    "#using the aggregate function mean and median to calculate mean and median of Age column\n",
    "fun_age = {'Age':{'Mean': 'mean','Median': 'median'}}\n",
    "#slicing based upon loc of the countries\n",
    "response.groupby(['Country','GenderSelect']).agg(fun_age).loc[['Australia','Germany','India',\n",
    "                                                             'United Kingdom','United States'],:]\n"
   ]
  },
  {
   "cell_type": "markdown",
   "metadata": {},
   "source": [
    " <div class=\"alert alert-block alert-warning\">\n",
    "\n",
    "13. What Pattern do you notice about the relationship between age, gender for each of these countries?\n"
   ]
  },
  {
   "cell_type": "markdown",
   "metadata": {},
   "source": [
    "<span style=\"color: green\">**Answer**</span>\n",
    "The mean age of all the countries except INDIA lies in 'thirties' and mean and median age of Males are greater \n",
    "than females.\n",
    "Except Australia all other countries have 'A different Identity' Gender identifed."
   ]
  },
  {
   "cell_type": "markdown",
   "metadata": {
    "_cell_guid": "3e161447-2816-45ec-872f-3a20da79c042",
    "_uuid": "d6bdc03f0c63a08754efc13378661dc986d2bcb8"
   },
   "source": [
    "## 2. Education\n",
    "<a id=\"education\"></a>\n",
    "***\n",
    "So far we have seen that there may be some relationships between age, gender and the country that the respondents are from.  Next, we should look at what their education is like. \n",
    "\n",
    "### 2.1 Formal education\n",
    "<a id=\"formal\"></a>\n",
    "\n",
    "We saw in a recent activity that a significant number of job advertisements call for a masters degree or a PhD. Let's see if this is a reasonable ask based on the respondent's formal education. "
   ]
  },
  {
   "cell_type": "markdown",
   "metadata": {},
   "source": [
    " <div class=\"alert alert-block alert-info\">\n",
    " 14. Plot and display as text output the number and percentage of respondents with each type of formal education."
   ]
  },
  {
   "cell_type": "code",
   "execution_count": 14,
   "metadata": {},
   "outputs": [
    {
     "name": "stdout",
     "output_type": "stream",
     "text": [
      "Text Output is : \n",
      " Master's degree                  1594\n",
      "Bachelor's degree                 930\n",
      "Doctoral degree                   808\n",
      "Professional degree                96\n",
      "Incomplete university studies      87\n",
      "No Formal education                25\n",
      "Name: FormalEducation, dtype: int64\n"
     ]
    },
    {
     "name": "stderr",
     "output_type": "stream",
     "text": [
      "C:\\ProgramData\\Anaconda3\\lib\\site-packages\\pandas\\core\\groupby\\groupby.py:4656: FutureWarning: using a dict with renaming is deprecated and will be removed in a future version\n",
      "  return super(DataFrameGroupBy, self).aggregate(arg, *args, **kwargs)\n"
     ]
    },
    {
     "data": {
      "text/html": [
       "<div>\n",
       "<style scoped>\n",
       "    .dataframe tbody tr th:only-of-type {\n",
       "        vertical-align: middle;\n",
       "    }\n",
       "\n",
       "    .dataframe tbody tr th {\n",
       "        vertical-align: top;\n",
       "    }\n",
       "\n",
       "    .dataframe thead th {\n",
       "        text-align: right;\n",
       "    }\n",
       "</style>\n",
       "<table border=\"1\" class=\"dataframe\">\n",
       "  <thead>\n",
       "    <tr style=\"text-align: right;\">\n",
       "      <th></th>\n",
       "      <th>FormalEducation</th>\n",
       "      <th>Count for Degree type</th>\n",
       "      <th>Total Count</th>\n",
       "      <th>Percentage</th>\n",
       "    </tr>\n",
       "  </thead>\n",
       "  <tbody>\n",
       "    <tr>\n",
       "      <th>0</th>\n",
       "      <td>Bachelor's degree</td>\n",
       "      <td>930</td>\n",
       "      <td>3540</td>\n",
       "      <td>26.271186</td>\n",
       "    </tr>\n",
       "    <tr>\n",
       "      <th>1</th>\n",
       "      <td>Doctoral degree</td>\n",
       "      <td>808</td>\n",
       "      <td>3540</td>\n",
       "      <td>22.824859</td>\n",
       "    </tr>\n",
       "    <tr>\n",
       "      <th>2</th>\n",
       "      <td>Incomplete university studies</td>\n",
       "      <td>87</td>\n",
       "      <td>3540</td>\n",
       "      <td>2.457627</td>\n",
       "    </tr>\n",
       "    <tr>\n",
       "      <th>3</th>\n",
       "      <td>Master's degree</td>\n",
       "      <td>1594</td>\n",
       "      <td>3540</td>\n",
       "      <td>45.028249</td>\n",
       "    </tr>\n",
       "    <tr>\n",
       "      <th>4</th>\n",
       "      <td>No Formal education</td>\n",
       "      <td>25</td>\n",
       "      <td>3540</td>\n",
       "      <td>0.706215</td>\n",
       "    </tr>\n",
       "    <tr>\n",
       "      <th>5</th>\n",
       "      <td>Professional degree</td>\n",
       "      <td>96</td>\n",
       "      <td>3540</td>\n",
       "      <td>2.711864</td>\n",
       "    </tr>\n",
       "  </tbody>\n",
       "</table>\n",
       "</div>"
      ],
      "text/plain": [
       "                 FormalEducation  Count for Degree type  Total Count  \\\n",
       "0              Bachelor's degree                    930         3540   \n",
       "1                Doctoral degree                    808         3540   \n",
       "2  Incomplete university studies                     87         3540   \n",
       "3                Master's degree                   1594         3540   \n",
       "4            No Formal education                     25         3540   \n",
       "5            Professional degree                     96         3540   \n",
       "\n",
       "   Percentage  \n",
       "0   26.271186  \n",
       "1   22.824859  \n",
       "2    2.457627  \n",
       "3   45.028249  \n",
       "4    0.706215  \n",
       "5    2.711864  "
      ]
     },
     "execution_count": 14,
     "metadata": {},
     "output_type": "execute_result"
    },
    {
     "data": {
      "image/png": "[encoded data removed]",
      "text/plain": [
       "<Figure size 432x288 with 1 Axes>"
      ]
     },
     "metadata": {
      "needs_background": "light"
     },
     "output_type": "display_data"
    }
   ],
   "source": [
    "#storing FormalEducation column in Edu reference\n",
    "Edu = response['FormalEducation']\n",
    "\n",
    "#number of reponsdent with each type of formal education\n",
    "pd.value_counts(Edu)\n",
    "\n",
    "#using value_counts to obtain unique obsevation for formalEducation and ploting it as 'bar' plot\n",
    "pd.value_counts(Edu).plot.bar() \n",
    "\n",
    "\n",
    "#TEXT OUTPUT\n",
    "TextOutput = pd.value_counts(Edu) #text count of number of respondands as per formal Education\n",
    "print(\"Text Output is : \\n\",TextOutput) #text output \\n used for new line\n",
    "\n",
    "#PERCENTAGE OF RESPONDENTS\n",
    "Edu.count()\n",
    "\n",
    "\n",
    "function = {'FormalEducation':{'Count for Degree type': lambda x: sum(e is not None for e in x)}}\n",
    "Data = response.groupby('FormalEducation').agg(function).reset_index() #resetting the column \n",
    "Data.columns = Data.columns.droplevel(0) #dropping the coulmn level\n",
    "Data.rename(columns ={'':'FormalEducation'}, inplace = True) #renaming first column as FormalEducation\n",
    "#Data #and hence we got the data for respondants as per formal education\n",
    "\n",
    "Data['Total Count'] = 3540 #total respondants\n",
    "Data # here we have the required dataset\n",
    "Data['Percentage'] = Data['Count for Degree type'] / Data['Total Count'] * 100 #calculating the percentage \n",
    "Data"
   ]
  },
  {
   "cell_type": "markdown",
   "metadata": {},
   "source": [
    " <div class=\"alert alert-block alert-warning\">\n",
    "\n",
    "15. Based on what you have seen, do you think that a Master's or Doctoral degree is too unrealistic for job advertisers looking for someone with data science skills?\n",
    "\n",
    "\n",
    "Give your reasons.\n"
   ]
  },
  {
   "cell_type": "markdown",
   "metadata": {
    "collapsed": true
   },
   "source": [
    "<span style=\"color: green\">**Answer**</span>\n",
    "\n",
    "yes!\n",
    "\n",
    "* No job advertiser would like to go for higher degree graduate if the same requirement can be filled with someone holding\n",
    "  a bachelor's degree\n",
    "* I believe Doctoral Degree will be suited to someone who wishes to do more R&N in his or her field of specialisation.\n",
    "\n"
   ]
  },
  {
   "cell_type": "markdown",
   "metadata": {},
   "source": [
    " <div class=\"alert alert-block alert-info\">\n",
    "16. Let's see if the trend is reflected in the Australian respondents.\n",
    "\n",
    "Plot and display as text output the number and percentage of Australian respondents with each type of formal education."
   ]
  },
  {
   "cell_type": "code",
   "execution_count": 15,
   "metadata": {},
   "outputs": [
    {
     "name": "stdout",
     "output_type": "stream",
     "text": [
      "                 FormalEducation  Aussie_Count  Overall_count  Percentage\n",
      "0              Bachelor's degree            45            930    4.838710\n",
      "1                Doctoral degree            25            808    3.094059\n",
      "2  Incomplete university studies             5             87    5.747126\n",
      "3                Master's degree            42           1594    2.634881\n",
      "4            Professional degree             2             96    8.000000 \n",
      "\n",
      " TEXT OUTPUT\n",
      " Master's degree                  1594\n",
      "Bachelor's degree                 930\n",
      "Doctoral degree                   808\n",
      "Professional degree                96\n",
      "Incomplete university studies      87\n",
      "No Formal education                25\n",
      "Name: FormalEducation, dtype: int64\n"
     ]
    },
    {
     "name": "stderr",
     "output_type": "stream",
     "text": [
      "C:\\ProgramData\\Anaconda3\\lib\\site-packages\\pandas\\core\\groupby\\groupby.py:4656: FutureWarning: using a dict with renaming is deprecated and will be removed in a future version\n",
      "  return super(DataFrameGroupBy, self).aggregate(arg, *args, **kwargs)\n"
     ]
    },
    {
     "data": {
      "image/png": "[encoded data removed]",
      "text/plain": [
       "<Figure size 432x288 with 1 Axes>"
      ]
     },
     "metadata": {
      "needs_background": "light"
     },
     "output_type": "display_data"
    }
   ],
   "source": [
    "\n",
    "Nation = response['Country'] == 'Australia' #Filtering based on country i.e. Australia\n",
    "response[\"new\"] = Nation #inserting new series in response dataframe\n",
    "country = response[Nation] #storing result for country \n",
    "country.FormalEducation# display data for Australia\n",
    "plt.plot(country.FormalEducation) # plot for Australia as per formal Education \n",
    "plt.title('Australian Formal Education') #setting title for the graph\n",
    "plt.legend()\n",
    "\n",
    "#Text Output \n",
    "Education = response['FormalEducation']\n",
    "text = pd.value_counts(Education) #using value_counts to display each degree type with count\n",
    "\n",
    "#Percentage\n",
    "\n",
    "#filtering out Data as per country == Australia\n",
    "nation = response['Country'] == 'Australia'\n",
    "response['new'] = nation\n",
    "AussieData = response[nation]\n",
    "fun ={'FormalEducation':{'Aussie_Count': lambda x: sum(e is not None for e in x)}}\n",
    "#group by formal education\n",
    "AussieData = AussieData.groupby('FormalEducation').agg(fun).reset_index()\n",
    "AussieData.columns = AussieData.columns.droplevel(0)\n",
    "AussieData.rename(columns ={'':'FormalEducation'}, inplace = True) #renaming first column as FormalEducation\n",
    "#AussieData #hence we obtained the data for count of Australians with their degree type\n",
    "\n",
    "\n",
    "funn = {'FormalEducation':{'Overall_count': lambda x: sum(e is not None for e in x)}}\n",
    "AussieData2 = response.groupby('FormalEducation').agg(funn).reset_index()\n",
    "AussieData2.columns = AussieData2.columns.droplevel(0)\n",
    "AussieData2.rename(columns={'':'FormalEducation'}, inplace = True) \n",
    "#AussieData2 #hence we obtained the over-all count for formal education\n",
    "\n",
    "#merging the two datasets i.e. AussieData and AussieData2\n",
    "DataSet = pd.merge(AussieData, AussieData2, on = 'FormalEducation', how = 'left') #sucessfully merged the two datasets based on col\n",
    "DataSet['Percentage'] = AussieData['Aussie_Count']/AussieData2['Overall_count'] * 100 #calculating the percentage of Aussie\n",
    "print(DataSet,\"\\n\\n\",\"TEXT OUTPUT\\n\",text) # percentage and textoutput of Australia"
   ]
  },
  {
   "cell_type": "markdown",
   "metadata": {},
   "source": [
    " <div class=\"alert alert-block alert-info\">\n",
    "\n",
    "17. Display as text output the mean and median age of each respondant according to each degree type.\n",
    "\n"
   ]
  },
  {
   "cell_type": "code",
   "execution_count": 16,
   "metadata": {},
   "outputs": [
    {
     "name": "stderr",
     "output_type": "stream",
     "text": [
      "C:\\ProgramData\\Anaconda3\\lib\\site-packages\\pandas\\core\\groupby\\groupby.py:4656: FutureWarning: using a dict with renaming is deprecated and will be removed in a future version\n",
      "  return super(DataFrameGroupBy, self).aggregate(arg, *args, **kwargs)\n"
     ]
    },
    {
     "data": {
      "text/html": [
       "<div>\n",
       "<style scoped>\n",
       "    .dataframe tbody tr th:only-of-type {\n",
       "        vertical-align: middle;\n",
       "    }\n",
       "\n",
       "    .dataframe tbody tr th {\n",
       "        vertical-align: top;\n",
       "    }\n",
       "\n",
       "    .dataframe thead th {\n",
       "        text-align: right;\n",
       "    }\n",
       "</style>\n",
       "<table border=\"1\" class=\"dataframe\">\n",
       "  <thead>\n",
       "    <tr style=\"text-align: right;\">\n",
       "      <th></th>\n",
       "      <th>Degree Type</th>\n",
       "      <th>Average Age</th>\n",
       "      <th>Median Age</th>\n",
       "    </tr>\n",
       "  </thead>\n",
       "  <tbody>\n",
       "    <tr>\n",
       "      <th>0</th>\n",
       "      <td>Bachelor's degree</td>\n",
       "      <td>30.632258</td>\n",
       "      <td>28.0</td>\n",
       "    </tr>\n",
       "    <tr>\n",
       "      <th>1</th>\n",
       "      <td>Doctoral degree</td>\n",
       "      <td>39.235149</td>\n",
       "      <td>37.0</td>\n",
       "    </tr>\n",
       "    <tr>\n",
       "      <th>2</th>\n",
       "      <td>Incomplete university studies</td>\n",
       "      <td>36.011494</td>\n",
       "      <td>35.0</td>\n",
       "    </tr>\n",
       "    <tr>\n",
       "      <th>3</th>\n",
       "      <td>Master's degree</td>\n",
       "      <td>33.746550</td>\n",
       "      <td>31.0</td>\n",
       "    </tr>\n",
       "    <tr>\n",
       "      <th>4</th>\n",
       "      <td>No Formal education</td>\n",
       "      <td>41.680000</td>\n",
       "      <td>42.0</td>\n",
       "    </tr>\n",
       "    <tr>\n",
       "      <th>5</th>\n",
       "      <td>Professional degree</td>\n",
       "      <td>36.645833</td>\n",
       "      <td>34.5</td>\n",
       "    </tr>\n",
       "  </tbody>\n",
       "</table>\n",
       "</div>"
      ],
      "text/plain": [
       "                     Degree Type  Average Age  Median Age\n",
       "0              Bachelor's degree    30.632258        28.0\n",
       "1                Doctoral degree    39.235149        37.0\n",
       "2  Incomplete university studies    36.011494        35.0\n",
       "3                Master's degree    33.746550        31.0\n",
       "4            No Formal education    41.680000        42.0\n",
       "5            Professional degree    36.645833        34.5"
      ]
     },
     "execution_count": 16,
     "metadata": {},
     "output_type": "execute_result"
    }
   ],
   "source": [
    "#aggregate function Degree to calculate mean and median of Age\n",
    "Degree = {'Age':{'Average Age':'mean', 'Median Age': 'median'}}\n",
    "#grouping them by degree type\n",
    "groupbyEdu = response.groupby('FormalEducation').agg(Degree).reset_index() #performing \n",
    "groupbyEdu.columns = groupbyEdu.columns.droplevel(0)\n",
    "groupbyEdu.rename(columns ={'' :'Degree Type'}, inplace = True)#renaming tthe first column after performing droplevel to zero\n",
    "groupbyEdu #to display output"
   ]
  },
  {
   "cell_type": "markdown",
   "metadata": {
    "_cell_guid": "d6b6ad94-84dd-4c53-b4cc-0b5a72303f56",
    "_uuid": "b66038723fc475c1a3e878da5adc2c73367a5f8e"
   },
   "source": [
    "## 3. Employment\n",
    "<a id=\"employment\"></a>\n",
    "***\n",
    "After you complete your degree many of you will be seeking work. The graduate employment four months after graduation in Australia is 69.5%. At Monash, it is 70.1%. This is for all Australian degrees. Let's have a look at the state of the employment market for the respondents. \n",
    "\n",
    "Let's have a look at the data. "
   ]
  },
  {
   "cell_type": "markdown",
   "metadata": {},
   "source": [
    "\n",
    "### 3.1 Employment status\n",
    "<a id=\"employment\"></a>\n",
    "The type of employment will affect the salary of a worker. Those employed part-time will likely earn less than those who work full time. "
   ]
  },
  {
   "cell_type": "markdown",
   "metadata": {},
   "source": [
    " <div class=\"alert alert-block alert-info\">\n",
    "\n",
    "18. Plot the type of employment the respondents have on a bar chart.\n",
    "\n"
   ]
  },
  {
   "cell_type": "code",
   "execution_count": 17,
   "metadata": {},
   "outputs": [
    {
     "data": {
      "text/plain": [
       "<matplotlib.axes._subplots.AxesSubplot at 0x1534187b048>"
      ]
     },
     "execution_count": 17,
     "metadata": {},
     "output_type": "execute_result"
    },
    {
     "data": {
      "image/png": "[encoded data removed]",
      "text/plain": [
       "<Figure size 432x288 with 1 Axes>"
      ]
     },
     "metadata": {
      "needs_background": "light"
     },
     "output_type": "display_data"
    }
   ],
   "source": [
    "Work = response['EmploymentStatus']\n",
    "#for the title of graph\n",
    "plt.title('Employement Type of respondents')\n",
    "#count plot using sns refernce of seaborn to plot type of employement\n",
    "sns.countplot(data = response, y = 'EmploymentStatus')\n"
   ]
  },
  {
   "cell_type": "markdown",
   "metadata": {},
   "source": [
    " <div class=\"alert alert-block alert-info\">\n",
    "\n",
    "19. You may be wondering if your own degree and experince will help you gain full time employment after you graduate. \n",
    "\n",
    "Plot the respondants employment types against their degrees.\n",
    "\n"
   ]
  },
  {
   "cell_type": "code",
   "execution_count": 20,
   "metadata": {
    "_cell_guid": "a47536f6-a33f-429b-a16a-c3aec369d7cd",
    "_kg_hide-input": true,
    "_uuid": "6b84c4b06b0155374fdb76abea6b94980546408b"
   },
   "outputs": [
    {
     "data": {
      "text/plain": [
       "Text(0.5,1,'Respondants Emplyement Type as per their Degree')"
      ]
     },
     "execution_count": 20,
     "metadata": {},
     "output_type": "execute_result"
    },
    {
     "data": {
      "image/png": "[encoded data removed]",
      "text/plain": [
       "<Figure size 1080x576 with 1 Axes>"
      ]
     },
     "metadata": {
      "needs_background": "light"
     },
     "output_type": "display_data"
    }
   ],
   "source": [
    "#grouping by EmplyementStatus and MajorSelect\n",
    "\n",
    "groupbyEmpMajor = response.groupby(['EmploymentStatus','MajorSelect']).count()\n",
    "groupbyEmpMajor = groupbyEmpMajor.reset_index()\n",
    "groupbyEmpMajor.rename(columns = {'Age':'Count'}, inplace = True)\n",
    "\n",
    "plt.figure(figsize = (15,8))\n",
    "sns.barplot(x = 'Count', y = 'EmploymentStatus', hue = 'MajorSelect', data = groupbyEmpMajor)\n",
    "plt.title('Respondants Emplyement Type as per their Degree')\n"
   ]
  },
  {
   "cell_type": "markdown",
   "metadata": {},
   "source": [
    " <div class=\"alert alert-block alert-warning\">\n",
    "20. Looking at the graph, which degree is best to gain full-time employment?\n",
    "\n",
    "What is odd about IT, networking or system administration??\n",
    "\n",
    "Explain your answers."
   ]
  },
  {
   "cell_type": "markdown",
   "metadata": {},
   "source": [
    "<span style=\"color: green\">**Answer**</span>\n",
    "\n",
    "As per the data Studying Computer Science can leadd to full time employement, maximum people have got full time job in this MajorSelect.\n",
    "\n",
    "As far as IT, networking or system administration is concerned there is no part time jobs for them, and very minimum chances of getting contract based work as well."
   ]
  },
  {
   "cell_type": "markdown",
   "metadata": {},
   "source": [
    " <div class=\"alert alert-block alert-info\">\n",
    "\n",
    "21. Overall, we know that 92.71% of respondents are employed, and 89.55% are employed full time. This may not be the same for every country. \n",
    "Print out the percentages of all respondents who are employed full time in Australia, United Kingdom and the United States."
   ]
  },
  {
   "cell_type": "code",
   "execution_count": 22,
   "metadata": {},
   "outputs": [
    {
     "name": "stdout",
     "output_type": "stream",
     "text": [
      "Percentage\n",
      "           Country  Count for Full-timers AUS/UK/US  Overall Count  Percentage\n",
      "0       Australia                              101            119        85.0\n",
      "1  United Kingdom                              137            151        91.0\n",
      "2   United States                             1030           1126        91.0\n"
     ]
    },
    {
     "name": "stderr",
     "output_type": "stream",
     "text": [
      "C:\\ProgramData\\Anaconda3\\lib\\site-packages\\pandas\\core\\groupby\\groupby.py:4656: FutureWarning: using a dict with renaming is deprecated and will be removed in a future version\n",
      "  return super(DataFrameGroupBy, self).aggregate(arg, *args, **kwargs)\n"
     ]
    }
   ],
   "source": [
    "\n",
    "EmpCountry = ((response.Country == 'Australia') | (response.Country == 'United States') | (response.Country == 'United Kingdom'))\n",
    "\n",
    "EC = response[EmpCountry] #here we are storing data for Aus/UK/US only\n",
    "#EC\n",
    "Employed = EC.EmploymentStatus == 'Employed full-time' #filtering out AUS/UK/USA as per Full Time Employement\n",
    "dc = EC[Employed] #and here we have the required dataset consiting of AUS/UK/USA as per Full time employement\n",
    "\n",
    "#Employed\n",
    "#dc = response[Employed]\n",
    "#dc\n",
    "\n",
    "\n",
    "func = {'EmploymentStatus':{'Count for Full-timers AUS/UK/US': lambda x: sum(e is not None for e in x)}}\n",
    "DC = dc.groupby('Country').agg(func).reset_index() #numbers of full-timers in Australia/UK/USA\n",
    "DC.columns = DC.columns.droplevel(0) #leveldrop for the column\n",
    "DC.rename(columns ={'' :'Country'}, inplace = True) #renaming first Column\n",
    "#DC #hence we got the full time employed respondednts in UK/US/andAUS\n",
    "\n",
    "#data for Full-timers and non full timers cumulative data from AUS/UK/USA\n",
    "fun = {'EmploymentStatus':{'Overall Count': lambda x: sum(e is not None for e in x)}}\n",
    "ec = EC.groupby('Country').agg(fun).reset_index() #numbers of full-timers in Australia/UK/USA\n",
    "ec.columns = ec.columns.droplevel(0)\n",
    "ec.rename(columns ={'' :'Country'}, inplace = True) #renaming first Column\n",
    "#ec\n",
    "\n",
    "BC = pd.merge(DC,ec, on = 'Country', how = 'left')\n",
    "BC['Percentage'] = round(BC['Count for Full-timers AUS/UK/US']/BC['Overall Count'] * 100)\n",
    "BC.rename(columns = {'Num_x':'ALL JOB TYPES COUNT','Num_y':'FULL-TIME JOB count'}, inplace = True)\n",
    "print(\"Percentage\\n\",BC) #printing out the percentage of full time AUS/UK/USA respondants "
   ]
  },
  {
   "cell_type": "markdown",
   "metadata": {},
   "source": [
    "Remember earlier we saw that age seemed to have some interesting characteristics when plotted with other variables. \n",
    "\n",
    "Let's find out the median age of employees by type of employment. "
   ]
  },
  {
   "cell_type": "markdown",
   "metadata": {},
   "source": [
    " <div class=\"alert alert-block alert-info\">\n",
    "22. Plot a boxplot of the respondents age grouped by employment type."
   ]
  },
  {
   "cell_type": "code",
   "execution_count": 23,
   "metadata": {},
   "outputs": [
    {
     "name": "stderr",
     "output_type": "stream",
     "text": [
      "C:\\ProgramData\\Anaconda3\\lib\\site-packages\\pandas\\core\\groupby\\groupby.py:4656: FutureWarning: using a dict with renaming is deprecated and will be removed in a future version\n",
      "  return super(DataFrameGroupBy, self).aggregate(arg, *args, **kwargs)\n"
     ]
    },
    {
     "data": {
      "text/plain": [
       "<matplotlib.axes._subplots.AxesSubplot at 0x15341aa4e48>"
      ]
     },
     "execution_count": 23,
     "metadata": {},
     "output_type": "execute_result"
    },
    {
     "data": {
      "image/png": "[encoded data removed]",
      "text/plain": [
       "<Figure size 432x288 with 1 Axes>"
      ]
     },
     "metadata": {
      "needs_background": "light"
     },
     "output_type": "display_data"
    }
   ],
   "source": [
    "# Your code\n",
    "funt = {'Age':{'Oldest':'max', 'Youngest':'min','Median Age': 'median'}}\n",
    "groupbyEmp = response.groupby('EmploymentStatus').agg(funt).reset_index()\n",
    "groupbyEmp.columns = groupbyEmp.columns.droplevel(0)\n",
    "groupbyEmp\n",
    "\n",
    "#boxplot\n",
    "response.boxplot(column = 'Age', by = 'EmploymentStatus',grid=False, rot=45, fontsize=15,layout=(1, 1))\n"
   ]
  },
  {
   "cell_type": "markdown",
   "metadata": {},
   "source": [
    "Now this is interesting, full time employees seem to be a little older than part time employees. Independent contactors, freelancers and self-employed respondents are older still. "
   ]
  },
  {
   "cell_type": "markdown",
   "metadata": {
    "_cell_guid": "551f7dba-71d3-4f77-8852-fce4f789d644",
    "_uuid": "31449fb18bfea68bb723b010b78dcab6c8fe5439"
   },
   "source": [
    "## 4. Salary\n",
    "<a id=\"salary\"></a>\n",
    "\n",
    "Data science is considered a very well paying role and was named 'best job of the year' for 2016. \n",
    "\n",
    "We had a look around and saw that data scientists were paid between $110,823 at IBM and 149,963 at Apple, in Australian dollars. \n",
    "\n",
    "On average it seems that $116,840 is what an Australian Data scientist can expect to earn. Do you think this is reasonable? Is this any different to the rest of the world? "
   ]
  },
  {
   "cell_type": "markdown",
   "metadata": {},
   "source": [
    "### 4.1 Salary overview\n",
    "<a id=\"overview\"></a>\n",
    "Since all of the respondents did not come from one country, we can assume that they gave their salaries in their countries currency. We have filtered the data for you and provided exchange rates in a file called *conversionRates.csv* which should already be imported. \n",
    "\n",
    "Let's have a look at the data. "
   ]
  },
  {
   "cell_type": "markdown",
   "metadata": {},
   "source": [
    " <div class=\"alert alert-block alert-info\">\n",
    "23. Use the codes for each country to merge the files so that you can convert the salary data to Australian Dollars (AUD). Print out the maximum and median salary in AUD. Hint: think about what data type you have."
   ]
  },
  {
   "cell_type": "code",
   "execution_count": 24,
   "metadata": {},
   "outputs": [
    {
     "name": "stderr",
     "output_type": "stream",
     "text": [
      "C:\\ProgramData\\Anaconda3\\lib\\site-packages\\pandas\\core\\groupby\\groupby.py:4656: FutureWarning: using a dict with renaming is deprecated and will be removed in a future version\n",
      "  return super(DataFrameGroupBy, self).aggregate(arg, *args, **kwargs)\n"
     ]
    },
    {
     "data": {
      "text/html": [
       "<div>\n",
       "<style scoped>\n",
       "    .dataframe tbody tr th:only-of-type {\n",
       "        vertical-align: middle;\n",
       "    }\n",
       "\n",
       "    .dataframe tbody tr th {\n",
       "        vertical-align: top;\n",
       "    }\n",
       "\n",
       "    .dataframe thead th {\n",
       "        text-align: right;\n",
       "    }\n",
       "</style>\n",
       "<table border=\"1\" class=\"dataframe\">\n",
       "  <thead>\n",
       "    <tr style=\"text-align: right;\">\n",
       "      <th></th>\n",
       "      <th>Country</th>\n",
       "      <th>Maximum Sal</th>\n",
       "      <th>Median Sal</th>\n",
       "    </tr>\n",
       "  </thead>\n",
       "  <tbody>\n",
       "    <tr>\n",
       "      <th>0</th>\n",
       "      <td>Argentina</td>\n",
       "      <td>72844.661000</td>\n",
       "      <td>26224.077960</td>\n",
       "    </tr>\n",
       "    <tr>\n",
       "      <th>1</th>\n",
       "      <td>Australia</td>\n",
       "      <td>500000.000000</td>\n",
       "      <td>120000.000000</td>\n",
       "    </tr>\n",
       "    <tr>\n",
       "      <th>2</th>\n",
       "      <td>Belarus</td>\n",
       "      <td>89428.724580</td>\n",
       "      <td>64090.585949</td>\n",
       "    </tr>\n",
       "    <tr>\n",
       "      <th>3</th>\n",
       "      <td>Belgium</td>\n",
       "      <td>298095.748600</td>\n",
       "      <td>81678.235116</td>\n",
       "    </tr>\n",
       "    <tr>\n",
       "      <th>4</th>\n",
       "      <td>Brazil</td>\n",
       "      <td>200265.483500</td>\n",
       "      <td>36047.787030</td>\n",
       "    </tr>\n",
       "    <tr>\n",
       "      <th>5</th>\n",
       "      <td>Canada</td>\n",
       "      <td>307993.668300</td>\n",
       "      <td>92398.100490</td>\n",
       "    </tr>\n",
       "    <tr>\n",
       "      <th>6</th>\n",
       "      <td>Chile</td>\n",
       "      <td>72061.920000</td>\n",
       "      <td>30025.800000</td>\n",
       "    </tr>\n",
       "    <tr>\n",
       "      <th>7</th>\n",
       "      <td>Colombia</td>\n",
       "      <td>193192.157635</td>\n",
       "      <td>23018.526000</td>\n",
       "    </tr>\n",
       "    <tr>\n",
       "      <th>8</th>\n",
       "      <td>Czech Republic</td>\n",
       "      <td>79954.133000</td>\n",
       "      <td>27983.946550</td>\n",
       "    </tr>\n",
       "    <tr>\n",
       "      <th>9</th>\n",
       "      <td>Denmark</td>\n",
       "      <td>160267.228000</td>\n",
       "      <td>100167.017500</td>\n",
       "    </tr>\n",
       "    <tr>\n",
       "      <th>10</th>\n",
       "      <td>Egypt</td>\n",
       "      <td>21184.828800</td>\n",
       "      <td>8262.083232</td>\n",
       "    </tr>\n",
       "    <tr>\n",
       "      <th>11</th>\n",
       "      <td>Finland</td>\n",
       "      <td>149047.874300</td>\n",
       "      <td>59619.149720</td>\n",
       "    </tr>\n",
       "    <tr>\n",
       "      <th>12</th>\n",
       "      <td>France</td>\n",
       "      <td>193762.236590</td>\n",
       "      <td>71542.979664</td>\n",
       "    </tr>\n",
       "    <tr>\n",
       "      <th>13</th>\n",
       "      <td>Germany</td>\n",
       "      <td>327905.323460</td>\n",
       "      <td>89428.724580</td>\n",
       "    </tr>\n",
       "    <tr>\n",
       "      <th>14</th>\n",
       "      <td>Greece</td>\n",
       "      <td>136378.804985</td>\n",
       "      <td>44714.362290</td>\n",
       "    </tr>\n",
       "    <tr>\n",
       "      <th>15</th>\n",
       "      <td>Hong Kong</td>\n",
       "      <td>239305.255500</td>\n",
       "      <td>46903.830078</td>\n",
       "    </tr>\n",
       "    <tr>\n",
       "      <th>16</th>\n",
       "      <td>Hungary</td>\n",
       "      <td>72839.670000</td>\n",
       "      <td>16898.803440</td>\n",
       "    </tr>\n",
       "    <tr>\n",
       "      <th>17</th>\n",
       "      <td>India</td>\n",
       "      <td>447782.032000</td>\n",
       "      <td>15575.027200</td>\n",
       "    </tr>\n",
       "    <tr>\n",
       "      <th>18</th>\n",
       "      <td>Indonesia</td>\n",
       "      <td>71044.875000</td>\n",
       "      <td>5257.320750</td>\n",
       "    </tr>\n",
       "    <tr>\n",
       "      <th>19</th>\n",
       "      <td>Iran</td>\n",
       "      <td>29913.600000</td>\n",
       "      <td>5982.720000</td>\n",
       "    </tr>\n",
       "    <tr>\n",
       "      <th>20</th>\n",
       "      <td>Ireland</td>\n",
       "      <td>223571.811450</td>\n",
       "      <td>96881.118295</td>\n",
       "    </tr>\n",
       "    <tr>\n",
       "      <th>21</th>\n",
       "      <td>Israel</td>\n",
       "      <td>169295.558880</td>\n",
       "      <td>88174.770250</td>\n",
       "    </tr>\n",
       "    <tr>\n",
       "      <th>22</th>\n",
       "      <td>Italy</td>\n",
       "      <td>372619.685750</td>\n",
       "      <td>64090.585949</td>\n",
       "    </tr>\n",
       "    <tr>\n",
       "      <th>23</th>\n",
       "      <td>Japan</td>\n",
       "      <td>227044.400000</td>\n",
       "      <td>79465.540000</td>\n",
       "    </tr>\n",
       "    <tr>\n",
       "      <th>24</th>\n",
       "      <td>Kenya</td>\n",
       "      <td>36367.488000</td>\n",
       "      <td>1454.699520</td>\n",
       "    </tr>\n",
       "    <tr>\n",
       "      <th>25</th>\n",
       "      <td>Malaysia</td>\n",
       "      <td>59275.342400</td>\n",
       "      <td>30823.178048</td>\n",
       "    </tr>\n",
       "    <tr>\n",
       "      <th>26</th>\n",
       "      <td>Mexico</td>\n",
       "      <td>91408.807100</td>\n",
       "      <td>18563.019288</td>\n",
       "    </tr>\n",
       "    <tr>\n",
       "      <th>27</th>\n",
       "      <td>Netherlands</td>\n",
       "      <td>372619.685750</td>\n",
       "      <td>95390.639552</td>\n",
       "    </tr>\n",
       "    <tr>\n",
       "      <th>28</th>\n",
       "      <td>New Zealand</td>\n",
       "      <td>272139.572100</td>\n",
       "      <td>77106.212095</td>\n",
       "    </tr>\n",
       "    <tr>\n",
       "      <th>29</th>\n",
       "      <td>Nigeria</td>\n",
       "      <td>62549.388000</td>\n",
       "      <td>1111.989120</td>\n",
       "    </tr>\n",
       "    <tr>\n",
       "      <th>30</th>\n",
       "      <td>Norway</td>\n",
       "      <td>174810.484200</td>\n",
       "      <td>111640.331955</td>\n",
       "    </tr>\n",
       "    <tr>\n",
       "      <th>31</th>\n",
       "      <td>Pakistan</td>\n",
       "      <td>49605.763200</td>\n",
       "      <td>6377.883840</td>\n",
       "    </tr>\n",
       "    <tr>\n",
       "      <th>32</th>\n",
       "      <td>People 's Republic of China</td>\n",
       "      <td>572098.068000</td>\n",
       "      <td>41953.858320</td>\n",
       "    </tr>\n",
       "    <tr>\n",
       "      <th>33</th>\n",
       "      <td>Philippines</td>\n",
       "      <td>47727.375150</td>\n",
       "      <td>15272.760048</td>\n",
       "    </tr>\n",
       "    <tr>\n",
       "      <th>34</th>\n",
       "      <td>Poland</td>\n",
       "      <td>105110.493600</td>\n",
       "      <td>29781.306520</td>\n",
       "    </tr>\n",
       "    <tr>\n",
       "      <th>35</th>\n",
       "      <td>Portugal</td>\n",
       "      <td>93900.160809</td>\n",
       "      <td>46502.936782</td>\n",
       "    </tr>\n",
       "    <tr>\n",
       "      <th>36</th>\n",
       "      <td>Russia</td>\n",
       "      <td>156167.064000</td>\n",
       "      <td>15616.706400</td>\n",
       "    </tr>\n",
       "    <tr>\n",
       "      <th>37</th>\n",
       "      <td>Singapore</td>\n",
       "      <td>277669.105500</td>\n",
       "      <td>74045.094800</td>\n",
       "    </tr>\n",
       "    <tr>\n",
       "      <th>38</th>\n",
       "      <td>South Africa</td>\n",
       "      <td>172755.667800</td>\n",
       "      <td>57585.222600</td>\n",
       "    </tr>\n",
       "    <tr>\n",
       "      <th>39</th>\n",
       "      <td>South Korea</td>\n",
       "      <td>220862.200000</td>\n",
       "      <td>46381.062000</td>\n",
       "    </tr>\n",
       "    <tr>\n",
       "      <th>40</th>\n",
       "      <td>Spain</td>\n",
       "      <td>149047.874300</td>\n",
       "      <td>59619.149720</td>\n",
       "    </tr>\n",
       "    <tr>\n",
       "      <th>41</th>\n",
       "      <td>Sweden</td>\n",
       "      <td>132646.234050</td>\n",
       "      <td>78027.196500</td>\n",
       "    </tr>\n",
       "    <tr>\n",
       "      <th>42</th>\n",
       "      <td>Switzerland</td>\n",
       "      <td>292606.286850</td>\n",
       "      <td>130047.238600</td>\n",
       "    </tr>\n",
       "    <tr>\n",
       "      <th>43</th>\n",
       "      <td>Taiwan</td>\n",
       "      <td>124530.417000</td>\n",
       "      <td>33208.111200</td>\n",
       "    </tr>\n",
       "    <tr>\n",
       "      <th>44</th>\n",
       "      <td>Turkey</td>\n",
       "      <td>90918.722250</td>\n",
       "      <td>21820.493340</td>\n",
       "    </tr>\n",
       "    <tr>\n",
       "      <th>45</th>\n",
       "      <td>Ukraine</td>\n",
       "      <td>40170.407760</td>\n",
       "      <td>14346.574200</td>\n",
       "    </tr>\n",
       "    <tr>\n",
       "      <th>46</th>\n",
       "      <td>United Kingdom</td>\n",
       "      <td>790290.000000</td>\n",
       "      <td>87810.000000</td>\n",
       "    </tr>\n",
       "    <tr>\n",
       "      <th>47</th>\n",
       "      <td>United States</td>\n",
       "      <td>685520.559350</td>\n",
       "      <td>137104.111870</td>\n",
       "    </tr>\n",
       "    <tr>\n",
       "      <th>48</th>\n",
       "      <td>Vietnam</td>\n",
       "      <td>7897.190400</td>\n",
       "      <td>3564.704000</td>\n",
       "    </tr>\n",
       "  </tbody>\n",
       "</table>\n",
       "</div>"
      ],
      "text/plain": [
       "                        Country    Maximum Sal     Median Sal\n",
       "0                     Argentina   72844.661000   26224.077960\n",
       "1                     Australia  500000.000000  120000.000000\n",
       "2                       Belarus   89428.724580   64090.585949\n",
       "3                       Belgium  298095.748600   81678.235116\n",
       "4                        Brazil  200265.483500   36047.787030\n",
       "5                        Canada  307993.668300   92398.100490\n",
       "6                         Chile   72061.920000   30025.800000\n",
       "7                      Colombia  193192.157635   23018.526000\n",
       "8                Czech Republic   79954.133000   27983.946550\n",
       "9                       Denmark  160267.228000  100167.017500\n",
       "10                        Egypt   21184.828800    8262.083232\n",
       "11                      Finland  149047.874300   59619.149720\n",
       "12                       France  193762.236590   71542.979664\n",
       "13                      Germany  327905.323460   89428.724580\n",
       "14                       Greece  136378.804985   44714.362290\n",
       "15                    Hong Kong  239305.255500   46903.830078\n",
       "16                      Hungary   72839.670000   16898.803440\n",
       "17                        India  447782.032000   15575.027200\n",
       "18                    Indonesia   71044.875000    5257.320750\n",
       "19                         Iran   29913.600000    5982.720000\n",
       "20                      Ireland  223571.811450   96881.118295\n",
       "21                       Israel  169295.558880   88174.770250\n",
       "22                        Italy  372619.685750   64090.585949\n",
       "23                        Japan  227044.400000   79465.540000\n",
       "24                        Kenya   36367.488000    1454.699520\n",
       "25                     Malaysia   59275.342400   30823.178048\n",
       "26                       Mexico   91408.807100   18563.019288\n",
       "27                  Netherlands  372619.685750   95390.639552\n",
       "28                  New Zealand  272139.572100   77106.212095\n",
       "29                      Nigeria   62549.388000    1111.989120\n",
       "30                       Norway  174810.484200  111640.331955\n",
       "31                     Pakistan   49605.763200    6377.883840\n",
       "32  People 's Republic of China  572098.068000   41953.858320\n",
       "33                  Philippines   47727.375150   15272.760048\n",
       "34                       Poland  105110.493600   29781.306520\n",
       "35                     Portugal   93900.160809   46502.936782\n",
       "36                       Russia  156167.064000   15616.706400\n",
       "37                    Singapore  277669.105500   74045.094800\n",
       "38                 South Africa  172755.667800   57585.222600\n",
       "39                  South Korea  220862.200000   46381.062000\n",
       "40                        Spain  149047.874300   59619.149720\n",
       "41                       Sweden  132646.234050   78027.196500\n",
       "42                  Switzerland  292606.286850  130047.238600\n",
       "43                       Taiwan  124530.417000   33208.111200\n",
       "44                       Turkey   90918.722250   21820.493340\n",
       "45                      Ukraine   40170.407760   14346.574200\n",
       "46               United Kingdom  790290.000000   87810.000000\n",
       "47                United States  685520.559350  137104.111870\n",
       "48                      Vietnam    7897.190400    3564.704000"
      ]
     },
     "execution_count": 24,
     "metadata": {},
     "output_type": "execute_result"
    }
   ],
   "source": [
    "#importing the conversionRate.csv file\n",
    "\n",
    "currency = pd.read_csv('conversionRates.csv', sep = ',')\n",
    "\n",
    "#merging 'multipleChoiceResponse' file which is in dataframe 'response' to currency which is dataframe for 'conversionRate' file\n",
    "merging = response.merge(currency, left_on = 'CompensationCurrency', right_on = 'originCountry')\n",
    "\n",
    "#considering we need all country's currency in AUD\n",
    "#converting salary data into AUD\n",
    "merging['AudSal'] = merging.CompensationAmount * merging.exchangeRateAUS\n",
    "merging\n",
    "\n",
    "#dropping out unwanted columns\n",
    "merging.drop(columns = ['Unnamed: 10', 'new'])\n",
    "\n",
    "#Calculating Maximum and Median Salary\n",
    "Sal = {'AudSal':{'Maximum Sal':'max','Median Sal':'median'}}\n",
    "\n",
    "#output for median and max sal in all countries\n",
    "ac = merging.groupby('Country').agg(Sal)\n",
    "ac = ac.reset_index() #resetting the indexing to remove multilevel indexing\n",
    "ac.columns = ac.columns.droplevel(0) #dropping the column level\n",
    "ac.rename(columns = {'':'Country'},inplace = True)\n",
    "ac"
   ]
  },
  {
   "cell_type": "markdown",
   "metadata": {},
   "source": [
    " <div class=\"alert alert-block alert-warning\">\n",
    "24. Do those figures reflect the values at the beginning of this section? Why do you think so?\n"
   ]
  },
  {
   "cell_type": "markdown",
   "metadata": {},
   "source": [
    "<span style=\"color: green\">**Answer**</span>\n",
    "No, here we have obtained the salary figures after conversion as per AUDcurrecy rate\n"
   ]
  },
  {
   "cell_type": "markdown",
   "metadata": {},
   "source": [
    "### 4.2 Salary by country\n",
    "<a id=\"countrysal\"></a>\n",
    "\n",
    "Since each country has different cost of living and pay indexes, we should see how they compare."
   ]
  },
  {
   "cell_type": "markdown",
   "metadata": {},
   "source": [
    "<div class=\"alert alert-block alert-info\">\n",
    "25. Plot a boxplot of the Australian respondents salary distribution. Print out the maximum and median salaries for Australian repsondnts."
   ]
  },
  {
   "cell_type": "code",
   "execution_count": 76,
   "metadata": {},
   "outputs": [
    {
     "name": "stdout",
     "output_type": "stream",
     "text": [
      "CompensationAmount  Maximum Salary      500000.0\n",
      "                    Median Of Salary    120000.0\n",
      "Name: Australia, dtype: float64\n"
     ]
    },
    {
     "name": "stderr",
     "output_type": "stream",
     "text": [
      "C:\\ProgramData\\Anaconda3\\lib\\site-packages\\pandas\\core\\groupby\\groupby.py:4656: FutureWarning: using a dict with renaming is deprecated and will be removed in a future version\n",
      "  return super(DataFrameGroupBy, self).aggregate(arg, *args, **kwargs)\n"
     ]
    },
    {
     "data": {
      "image/png": "[encoded data removed]",
      "text/plain": [
       "<Figure size 432x288 with 1 Axes>"
      ]
     },
     "metadata": {
      "needs_background": "light"
     },
     "output_type": "display_data"
    }
   ],
   "source": [
    "#box plot for sal of Australians\n",
    "Aussies = response['Country'] == 'Australia'\n",
    "#boxplot by taking salary and country\n",
    "group = response.loc[response['Country'] == 'Australia'].boxplot(column = 'CompensationAmount', by = 'Country')\n",
    "group\n",
    "\n",
    "# calculating max and median salaries for Australian respondants\n",
    "\n",
    "fun = {'CompensationAmount':{'Maximum Salary': 'max', 'Median Of Salary': 'median'}} \n",
    "output = response.groupby('Country').agg(fun).loc['Australia',:]  #grouping by country, slicing Australia as per loc\n",
    "print(output) #printing out max and median Salries for Australian"
   ]
  },
  {
   "cell_type": "markdown",
   "metadata": {},
   "source": [
    " <div class=\"alert alert-block alert-warning\">\n",
    "26. Do those figures for Australia reflect the values at the beginning of this section?\n"
   ]
  },
  {
   "cell_type": "markdown",
   "metadata": {},
   "source": [
    "<span style=\"color: green\">**Answer**</span>\n",
    "\n",
    "Yes, the value for Max and median Sal for Australia remains the same, as it was in AUD then and Now."
   ]
  },
  {
   "cell_type": "markdown",
   "metadata": {},
   "source": [
    "<div class=\"alert alert-block alert-info\">\n",
    "27. Australia's salaries look pretty good.\n",
    "\n",
    "Plot the salaries of all countries on a bar chart.\n",
    "\n",
    "Hint: Adjust for full-time employees only"
   ]
  },
  {
   "cell_type": "code",
   "execution_count": 131,
   "metadata": {},
   "outputs": [
    {
     "name": "stderr",
     "output_type": "stream",
     "text": [
      "C:\\ProgramData\\Anaconda3\\lib\\site-packages\\scipy\\stats\\stats.py:1713: FutureWarning: Using a non-tuple sequence for multidimensional indexing is deprecated; use `arr[tuple(seq)]` instead of `arr[seq]`. In the future this will be interpreted as an array index, `arr[np.array(seq)]`, which will result either in an error or a different result.\n",
      "  return np.add.reduce(sorted[indexer] * weights, axis=axis) / sumval\n"
     ]
    },
    {
     "data": {
      "text/plain": [
       "Text(0.5,1,'Salary distribution as per Country for Full -Timers')"
      ]
     },
     "execution_count": 131,
     "metadata": {},
     "output_type": "execute_result"
    },
    {
     "data": {
      "image/png": "[encoded data removed]",
      "text/plain": [
       "<Figure size 842.4x595.44 with 1 Axes>"
      ]
     },
     "metadata": {},
     "output_type": "display_data"
    }
   ],
   "source": [
    "#using the merging dataframe which is the combination of both csv's\n",
    "\n",
    "#copying the data for full timers\n",
    "FullTimers = merging['EmploymentStatus'] == 'Employed full-time'\n",
    "merging[\"new\"] = FullTimers #inserting new series in response dataframe\n",
    "EmployementT = merging[FullTimers] #storing result for EmployementT \n",
    "country = pd.value_counts(EmployementT['Country'])\n",
    "#country\n",
    "\n",
    "#setting the figure size\n",
    "sns.set(rc={'figure.figsize':(11.7,8.27)})\n",
    "\n",
    "#plot for fulltimers , country vs salary\n",
    "sns.barplot(EmployementT['AudSal'], EmployementT['Country'], data = EmployementT)\n",
    "plt.title('Salary distribution as per Country for Full -Timers')"
   ]
  },
  {
   "cell_type": "markdown",
   "metadata": {},
   "source": [
    " <div class=\"alert alert-block alert-warning\">\n",
    "28. What do you notice about the distributions? What do you think is the cause of this?\n"
   ]
  },
  {
   "cell_type": "markdown",
   "metadata": {},
   "source": [
    "<span style=\"color: green\">**Answer**</span>\n",
    "The black mark at the top of the bars represent the positive error where as anything beneath the bar is negative error.\n",
    "\n"
   ]
  },
  {
   "cell_type": "markdown",
   "metadata": {
    "_cell_guid": "0b225e5f-aafc-4e2c-8d4c-201e253d1074",
    "_uuid": "99a87fe0b63e8abb7449574f85f2571d68f06c6b"
   },
   "source": [
    "### 4.3 Salary and Gender\n",
    "<a id=\"gender_salary\"></a>\n",
    "The gender pay gap in the tech industry is a big talking point. Let's see if the respondents are noticing the effect."
   ]
  },
  {
   "cell_type": "markdown",
   "metadata": {},
   "source": [
    "<div class=\"alert alert-block alert-info\">\n",
    "\n",
    "\n",
    "29. Plot the salaries of all countries grouped by gender on a boxplot.\n"
   ]
  },
  {
   "cell_type": "code",
   "execution_count": 25,
   "metadata": {},
   "outputs": [
    {
     "data": {
      "text/plain": [
       "<matplotlib.axes._subplots.AxesSubplot at 0x15341b3fe48>"
      ]
     },
     "execution_count": 25,
     "metadata": {},
     "output_type": "execute_result"
    },
    {
     "data": {
      "image/png": "[encoded data removed]",
      "text/plain": [
       "<Figure size 1490.4x595.44 with 1 Axes>"
      ]
     },
     "metadata": {},
     "output_type": "display_data"
    }
   ],
   "source": [
    "#Yourcode\n",
    "sns.set(rc={'figure.figsize':(20.7,8.27)})\n",
    "\n",
    "#using the merging file, that we have obtained after merging both csv's\n",
    "#ploting the boxplot with x axis as Sal and y as Gender\n",
    "plt.title('Salaries of countries grouped by Gender')\n",
    "sns.boxplot( merging['AudSal'], merging['GenderSelect'], data = merging)"
   ]
  },
  {
   "cell_type": "markdown",
   "metadata": {},
   "source": [
    " <div class=\"alert alert-block alert-warning\">\n",
    "30. What do you notice about the distributions?\n"
   ]
  },
  {
   "cell_type": "markdown",
   "metadata": {},
   "source": [
    "<span style=\"color: green\">**Answer**</span>\n",
    "\n",
    "The Median for all the three genders distribution lies almost around same value\n",
    "Although there is  difference between the maximum salary of Male (reaching out to near about 800000) and its counterpart Female (just about 300000)."
   ]
  },
  {
   "cell_type": "markdown",
   "metadata": {},
   "source": [
    "<div class=\"alert alert-block alert-info\">\n",
    "31. The salaries may be affected by the country the responant is from. In Australia the weekly difference in pay between men and women is 17.7% and in the United states it is 26%.\n",
    "\n",
    "Print the median salaries of Australia, United States and India grouped by gender.\n"
   ]
  },
  {
   "cell_type": "code",
   "execution_count": 130,
   "metadata": {},
   "outputs": [
    {
     "name": "stderr",
     "output_type": "stream",
     "text": [
      "C:\\ProgramData\\Anaconda3\\lib\\site-packages\\pandas\\core\\groupby\\groupby.py:4656: FutureWarning: using a dict with renaming is deprecated and will be removed in a future version\n",
      "  return super(DataFrameGroupBy, self).aggregate(arg, *args, **kwargs)\n"
     ]
    },
    {
     "data": {
      "text/html": [
       "<div>\n",
       "<style scoped>\n",
       "    .dataframe tbody tr th:only-of-type {\n",
       "        vertical-align: middle;\n",
       "    }\n",
       "\n",
       "    .dataframe tbody tr th {\n",
       "        vertical-align: top;\n",
       "    }\n",
       "\n",
       "    .dataframe thead th {\n",
       "        text-align: right;\n",
       "    }\n",
       "</style>\n",
       "<table border=\"1\" class=\"dataframe\">\n",
       "  <thead>\n",
       "    <tr style=\"text-align: right;\">\n",
       "      <th></th>\n",
       "      <th>Country</th>\n",
       "      <th>Country</th>\n",
       "      <th>Medain Salary</th>\n",
       "    </tr>\n",
       "  </thead>\n",
       "  <tbody>\n",
       "    <tr>\n",
       "      <th>0</th>\n",
       "      <td>Australia</td>\n",
       "      <td>Female</td>\n",
       "      <td>82000.000000</td>\n",
       "    </tr>\n",
       "    <tr>\n",
       "      <th>1</th>\n",
       "      <td>Australia</td>\n",
       "      <td>Male</td>\n",
       "      <td>130000.000000</td>\n",
       "    </tr>\n",
       "    <tr>\n",
       "      <th>2</th>\n",
       "      <td>India</td>\n",
       "      <td>A different identity</td>\n",
       "      <td>13628.148800</td>\n",
       "    </tr>\n",
       "    <tr>\n",
       "      <th>3</th>\n",
       "      <td>India</td>\n",
       "      <td>Female</td>\n",
       "      <td>12654.709600</td>\n",
       "    </tr>\n",
       "    <tr>\n",
       "      <th>4</th>\n",
       "      <td>India</td>\n",
       "      <td>Male</td>\n",
       "      <td>17327.217760</td>\n",
       "    </tr>\n",
       "    <tr>\n",
       "      <th>5</th>\n",
       "      <td>United States</td>\n",
       "      <td>A different identity</td>\n",
       "      <td>168264.137295</td>\n",
       "    </tr>\n",
       "    <tr>\n",
       "      <th>6</th>\n",
       "      <td>United States</td>\n",
       "      <td>Female</td>\n",
       "      <td>112176.091530</td>\n",
       "    </tr>\n",
       "    <tr>\n",
       "      <th>7</th>\n",
       "      <td>United States</td>\n",
       "      <td>Male</td>\n",
       "      <td>143336.116955</td>\n",
       "    </tr>\n",
       "  </tbody>\n",
       "</table>\n",
       "</div>"
      ],
      "text/plain": [
       "         Country               Country  Medain Salary\n",
       "0      Australia                Female   82000.000000\n",
       "1      Australia                  Male  130000.000000\n",
       "2          India  A different identity   13628.148800\n",
       "3          India                Female   12654.709600\n",
       "4          India                  Male   17327.217760\n",
       "5  United States  A different identity  168264.137295\n",
       "6  United States                Female  112176.091530\n",
       "7  United States                  Male  143336.116955"
      ]
     },
     "execution_count": 130,
     "metadata": {},
     "output_type": "execute_result"
    }
   ],
   "source": [
    "# Your code\n",
    "\n",
    "nations = merging['Country']\n",
    "#aggregate function to calculate the median salary, utlising CompensationAmount column for salary\n",
    "fun = {'AudSal':{'Medain Salary': 'median'}}\n",
    "fun\n",
    "#grouping them as per Gender and slicing as per the country sepecified\n",
    "SalData = merging.groupby(['Country','GenderSelect']).agg(fun).loc[['Australia','India','United States'],:]\n",
    "SalData = SalData.reset_index() #setting the indexing \n",
    "SalData.columns = SalData.columns.droplevel(0) #dropping the column level to zero\n",
    "SalData.rename(columns = {'':'Country'},inplace = True) # renaming the first column\n",
    "SalData"
   ]
  },
  {
   "cell_type": "markdown",
   "metadata": {
    "_cell_guid": "e47aea02-e5a2-4a39-832c-4357ba3986a9",
    "_uuid": "20116846f18df89156bbac8005d130aaf3588909"
   },
   "source": [
    "### 4.4 Salary and formal education\n",
    "<a id=\"education_salary\"></a>\n",
    "\n",
    "*Is getting your master's really worth it ?*\n",
    "*Do PhDs get more money?*\n",
    "\n",
    "Let's see."
   ]
  },
  {
   "cell_type": "markdown",
   "metadata": {},
   "source": [
    "<div class=\"alert alert-block alert-info\">\n",
    "32. Plot the salary distribution of all respondants and group by formal education type on a boxplot.\n"
   ]
  },
  {
   "cell_type": "code",
   "execution_count": 81,
   "metadata": {
    "_cell_guid": "273d6151-645f-444d-b5a5-be9b7150cdf0",
    "_kg_hide-input": true,
    "_uuid": "2299a4ed70ff610b3be64787786bee9cde947047"
   },
   "outputs": [
    {
     "data": {
      "text/plain": [
       "<matplotlib.axes._subplots.AxesSubplot at 0x18fdcd8a9e8>"
      ]
     },
     "execution_count": 81,
     "metadata": {},
     "output_type": "execute_result"
    },
    {
     "data": {
      "image/png": "[encoded data removed]",
      "text/plain": [
       "<Figure size 1490.4x595.44 with 1 Axes>"
      ]
     },
     "metadata": {},
     "output_type": "display_data"
    }
   ],
   "source": [
    "#salary distribution according to Formal Education\n",
    "sal = merging['AudSal']\n",
    "#boxplot groupby FormalEducation\n",
    "#using the merging file, that we have obtained after merging both csv's\n",
    "#and ploting the box plot\n",
    "merging.boxplot(column = 'AudSal', by = 'FormalEducation')\n"
   ]
  },
  {
   "cell_type": "markdown",
   "metadata": {},
   "source": [
    " <div class=\"alert alert-block alert-warning\">\n",
    "33. Is it better to get your Masters or PhD? \n",
    "\n",
    "Explain your answer."
   ]
  },
  {
   "cell_type": "markdown",
   "metadata": {},
   "source": [
    "<span style=\"color: green\">**Answer**</span>\n",
    "As per the above boxplot, it is pretty evident that the median value of salary of Master's Degree is higher than Bachelor's \n",
    "but Doctral Degree holder have maximum median salary. At the same time the maximum salary when compared between these three degree holders turned out to be achieved by Master's Degree holder.\n",
    "So, getting a MASTER'S Degree is the better Choice"
   ]
  },
  {
   "cell_type": "markdown",
   "metadata": {},
   "source": [
    "### 4.5 Salary and job\n",
    "<a id=\"salary_job\"></a>\n",
    "So are data scientists the highest paid in the industry?  Or are there lesser known roles that are hiding from the spotlight?"
   ]
  },
  {
   "cell_type": "markdown",
   "metadata": {},
   "source": [
    "<div class=\"alert alert-block alert-info\">\n",
    "\n",
    "34. Plot a bar chart of average salary (with error bars) of full time employees and group by job title."
   ]
  },
  {
   "cell_type": "code",
   "execution_count": 100,
   "metadata": {},
   "outputs": [
    {
     "name": "stderr",
     "output_type": "stream",
     "text": [
      "C:\\ProgramData\\Anaconda3\\lib\\site-packages\\pandas\\core\\groupby\\groupby.py:4656: FutureWarning: using a dict with renaming is deprecated and will be removed in a future version\n",
      "  return super(DataFrameGroupBy, self).aggregate(arg, *args, **kwargs)\n"
     ]
    },
    {
     "data": {
      "text/plain": [
       "Text(0.5,1,'Bar Chart for Full time employees and their Average Sal')"
      ]
     },
     "execution_count": 100,
     "metadata": {},
     "output_type": "execute_result"
    },
    {
     "data": {
      "image/png": "[encoded data removed]",
      "text/plain": [
       "<Figure size 432x288 with 1 Axes>"
      ]
     },
     "metadata": {
      "needs_background": "light"
     },
     "output_type": "display_data"
    }
   ],
   "source": [
    "#using the merging file, that we have obtained after merging both csv's\n",
    "\n",
    "FullTimers = merging['EmploymentStatus'] == 'Employed full-time'\n",
    "merging[\"new\"] = FullTimers #inserting new series in response dataframe\n",
    "EmployementT = merging[FullTimers] #storing result for EmployementT \n",
    "#EmployementT\n",
    "\n",
    "#calculating average salary\n",
    "avg = {'AudSal': {'Average Salary': 'mean'}}\n",
    "ET = EmployementT.groupby('CurrentJobTitleSelect').agg(avg).reset_index() #resetting the indexes\n",
    "ET.columns = ET.columns.droplevel(0) #dropping the column level to zero\n",
    "ET.rename(columns = {'':'CurrentJob'},inplace = True) # renaming the first column as CurrentJob\n",
    "#plotting the barplot for the Full-time employees as per their job title\n",
    "sns.barplot(ET['Average Salary'], ET['CurrentJob'], data = ET) #plotting the barplot using seaborn library\n",
    "plt.title('Bar Chart for Full time employees and their Average Sal') #title for the bar plot\n"
   ]
  },
  {
   "cell_type": "markdown",
   "metadata": {},
   "source": [
    " <div class=\"alert alert-block alert-warning\">\n",
    "35. Which job earns the most? Give a brief explaination of that job.\n"
   ]
  },
  {
   "cell_type": "markdown",
   "metadata": {},
   "source": [
    "<span style=\"color: green\">**Answer**</span>\n",
    "\n",
    "Average Salary of Engineers is highest amoung all full timers.\n",
    "Which is aprroximately 9.208013e+06 = 9208013, followed by computer scientists.\n"
   ]
  },
  {
   "cell_type": "markdown",
   "metadata": {},
   "source": [
    "<div class=\"alert alert-block alert-info\">\n",
    "36. So why are data scientists in the spotlight? Plot the salary distribution of full-time employees and group by job title as boxplots."
   ]
  },
  {
   "cell_type": "code",
   "execution_count": 133,
   "metadata": {
    "_cell_guid": "e91f935d-90a7-44d7-b8c3-8eb3e3385d7e",
    "_kg_hide-input": true,
    "_uuid": "9ccfbef988f508e5565f3d7deeac46140f4c0234"
   },
   "outputs": [
    {
     "data": {
      "text/plain": [
       "<matplotlib.axes._subplots.AxesSubplot at 0x18ff0140da0>"
      ]
     },
     "execution_count": 133,
     "metadata": {},
     "output_type": "execute_result"
    },
    {
     "data": {
      "image/png": "[encoded data removed]",
      "text/plain": [
       "<Figure size 2520x576 with 1 Axes>"
      ]
     },
     "metadata": {},
     "output_type": "display_data"
    }
   ],
   "source": [
    "##using the merging file, that we have obtained after merging both csv's\n",
    "FullTimers = merging['EmploymentStatus'] == 'Employed full-time'\n",
    "merging[\"new\"] = FullTimers #inserting new series in merging dataframe\n",
    "EmployementT = merging[FullTimers] #storing result for EmployementT \n",
    "#boxplot for fulltimers grouped by job title\n",
    "merging.boxplot(column = 'AudSal', by = 'CurrentJobTitleSelect',figsize = (35,8))"
   ]
  },
  {
   "cell_type": "markdown",
   "metadata": {},
   "source": [
    " <div class=\"alert alert-block alert-warning\">\n",
    "37. Do the boxplots give some insight into why data scientists may receive so much attention?\n",
    "\n",
    "Explain your answer."
   ]
  },
  {
   "cell_type": "markdown",
   "metadata": {},
   "source": [
    "<span style=\"color: green\">**Answer**</span>\n",
    "\n",
    "This could be because of the fact that Data scientists are earning more than Data analyst , database Engineer  and even from any other full time Computer scientist\n"
   ]
  },
  {
   "cell_type": "markdown",
   "metadata": {},
   "source": [
    "## 5. Predicting salary\n",
    "<a id=\"pred\"></a>\n",
    "\n",
    "We have looked at many variables and seen that there are a lot of factors that could affect your salary.  \n",
    "\n",
    "Let's say we wanted to reduce it though? One method we could use is a linear regression. This is a very basic model that can give us some insights. Note though, there are more robust ways to predict salary based on categorical variables. But this exercise will give you a taste of predictive modelling."
   ]
  },
  {
   "cell_type": "markdown",
   "metadata": {},
   "source": [
    "<div class=\"alert alert-block alert-info\">\n",
    "38. Plot the salary distribution and age of respondants on a scatterplot."
   ]
  },
  {
   "cell_type": "code",
   "execution_count": 82,
   "metadata": {},
   "outputs": [
    {
     "data": {
      "image/png": "[encoded data removed]",
      "text/plain": [
       "<Figure size 1490.4x595.44 with 1 Axes>"
      ]
     },
     "metadata": {},
     "output_type": "display_data"
    }
   ],
   "source": [
    "fig, ax = plt.subplots()\n",
    "#scatter plot with x and y axis respectively\n",
    "Scatter_plot = ax.scatter( merging['AudSal'],\n",
    "                         merging['Age']) #using the 'merging' dataframe, that we have obtained after merging both csv's\n",
    "ax.set_xlabel('Salary Distribution') #labelling x axis\n",
    "ax.set_ylabel('Age Of Respondants')  #labelling y axis\n",
    "ax.set_title('Scattered Plot Salary Vs Age Of Respondants') #setting title for the scattered plot\n",
    "plt.show()"
   ]
  },
  {
   "cell_type": "markdown",
   "metadata": {},
   "source": [
    "<div class=\"alert alert-block alert-info\">\n",
    "\n",
    "39. There may be a weak relationship. Let's refine this.\n",
    "\n",
    "Create a linear regression between the salary and age of full-time Australian respondants. Plot the linear fit over the scatterplot."
   ]
  },
  {
   "cell_type": "code",
   "execution_count": 83,
   "metadata": {},
   "outputs": [
    {
     "name": "stderr",
     "output_type": "stream",
     "text": [
      "C:\\ProgramData\\Anaconda3\\lib\\site-packages\\scipy\\stats\\stats.py:1713: FutureWarning: Using a non-tuple sequence for multidimensional indexing is deprecated; use `arr[tuple(seq)]` instead of `arr[seq]`. In the future this will be interpreted as an array index, `arr[np.array(seq)]`, which will result either in an error or a different result.\n",
      "  return np.add.reduce(sorted[indexer] * weights, axis=axis) / sumval\n"
     ]
    },
    {
     "data": {
      "text/plain": [
       "<matplotlib.axes._subplots.AxesSubplot at 0x18fdcf9de10>"
      ]
     },
     "execution_count": 83,
     "metadata": {},
     "output_type": "execute_result"
    },
    {
     "data": {
      "image/png": "[encoded data removed]",
      "text/plain": [
       "<Figure size 1490.4x595.44 with 1 Axes>"
      ]
     },
     "metadata": {},
     "output_type": "display_data"
    }
   ],
   "source": [
    "#creating a new dataframe that consists of emplyementype as Full-time only\n",
    "FullTimers = merging['EmploymentStatus'] == 'Employed full-time'\n",
    "merging[\"new\"] = FullTimers #inserting new series in response dataframe\n",
    "EmployementT = merging[FullTimers] #storing result for EmployementT \n",
    "\n",
    "sns.set(color_codes=True)\n",
    "#ploting the regression plot with x as sal in AUD and y as Age\n",
    "sns.regplot(x = EmployementT['AudSal'], y = EmployementT['Age'], data = EmployementT, fit_reg=True) \n"
   ]
  },
  {
   "cell_type": "markdown",
   "metadata": {
    "_cell_guid": "0474ebf4-4f5a-48a1-82cf-79f68141bacc",
    "_uuid": "fce3892f4b73acce66a69dbc74f1299ee87572f8"
   },
   "source": [
    " <div class=\"alert alert-block alert-warning\">\n",
    "40. Do You think that this is a good way to predict salaries?\n",
    "\n",
    "Explain your answer."
   ]
  },
  {
   "cell_type": "markdown",
   "metadata": {
    "_cell_guid": "37030be5-a00c-4289-84e2-588d26a71a3a",
    "_uuid": "cbc7a897ef5e01a7bc743c453427b21243b85436"
   },
   "source": [
    "<span style=\"color: green\">**Answer**</span>\n",
    "\n",
    "It can be depicted that after over 25 Years of age there is an increase in the salary of the employees"
   ]
  },
  {
   "cell_type": "markdown",
   "metadata": {},
   "source": [
    "Well done you have completed Part A. Don't forget Part B below. \n",
    "\n",
    "For reassurance, the Graduate Careers Australia 2016 survey found the median salary for masters graduates in Computer Science and IT was $76,000."
   ]
  },
  {
   "cell_type": "markdown",
   "metadata": {},
   "source": [
    "## Task B - Exploratory Analysis on Other Data\n",
    "\n",
    "Find some publicly available data and repeat some of the analysis performed in Task A above. Good sources of data are government websites, such as: data.gov.au, data.gov, data.gov.in, data.gov.uk, ...\n",
    "\n",
    "Please note that your report and analysis should contain consideration of the data you have found and its broader impact in terms of (1) the purpose of the data, (2) ethics and privacy issues, (3) environmental impact, (4) societal benefit, (5) health benefit, and (6) commercial benefit. Moreover, your analysis should at least involve (7) visualisation, (8) interpretation of your visualisation and (9) a prediction task.\n",
    "\n",
    "To perform Task B, you can continue by extending this jupyter notebook file by adding more cells."
   ]
  },
  {
   "cell_type": "code",
   "execution_count": 4,
   "metadata": {},
   "outputs": [],
   "source": [
    "import pandas as pd   # importing the library pandas and referencing it as pd\n",
    "                      # pandas are software programming library used in python for data manupulationa and analysis\n",
    "import seaborn as sns # importing the library seaborn and reference it as sns, used for statistical graphics in python\n",
    "import matplotlib.pyplot as plt\n",
    "\n",
    "#to view the plots in the jupyter notebook itself using matplotlib\n",
    "%matplotlib inline  "
   ]
  },
  {
   "cell_type": "code",
   "execution_count": 5,
   "metadata": {},
   "outputs": [
    {
     "data": {
      "text/html": [
       "<div>\n",
       "<style scoped>\n",
       "    .dataframe tbody tr th:only-of-type {\n",
       "        vertical-align: middle;\n",
       "    }\n",
       "\n",
       "    .dataframe tbody tr th {\n",
       "        vertical-align: top;\n",
       "    }\n",
       "\n",
       "    .dataframe thead th {\n",
       "        text-align: right;\n",
       "    }\n",
       "</style>\n",
       "<table border=\"1\" class=\"dataframe\">\n",
       "  <thead>\n",
       "    <tr style=\"text-align: right;\">\n",
       "      <th></th>\n",
       "      <th>financial_year</th>\n",
       "      <th>state</th>\n",
       "      <th>area_of_expenditure</th>\n",
       "      <th>broad_source_of_funding</th>\n",
       "      <th>detailed_source_of_funding</th>\n",
       "      <th>real_expenditure_millions</th>\n",
       "    </tr>\n",
       "  </thead>\n",
       "  <tbody>\n",
       "    <tr>\n",
       "      <th>0</th>\n",
       "      <td>1997-98</td>\n",
       "      <td>NSW</td>\n",
       "      <td>Administration</td>\n",
       "      <td>Government</td>\n",
       "      <td>Australian Government</td>\n",
       "      <td>315.0</td>\n",
       "    </tr>\n",
       "    <tr>\n",
       "      <th>1</th>\n",
       "      <td>1997-98</td>\n",
       "      <td>NSW</td>\n",
       "      <td>Administration</td>\n",
       "      <td>Government</td>\n",
       "      <td>State and local</td>\n",
       "      <td>120.0</td>\n",
       "    </tr>\n",
       "    <tr>\n",
       "      <th>2</th>\n",
       "      <td>1997-98</td>\n",
       "      <td>NSW</td>\n",
       "      <td>Administration</td>\n",
       "      <td>Non-government</td>\n",
       "      <td>Private health insurance funds</td>\n",
       "      <td>314.0</td>\n",
       "    </tr>\n",
       "    <tr>\n",
       "      <th>3</th>\n",
       "      <td>1997-98</td>\n",
       "      <td>NSW</td>\n",
       "      <td>Aids and appliances</td>\n",
       "      <td>Government</td>\n",
       "      <td>Australian Government</td>\n",
       "      <td>65.0</td>\n",
       "    </tr>\n",
       "    <tr>\n",
       "      <th>4</th>\n",
       "      <td>1997-98</td>\n",
       "      <td>NSW</td>\n",
       "      <td>Aids and appliances</td>\n",
       "      <td>Non-government</td>\n",
       "      <td>Individuals</td>\n",
       "      <td>168.0</td>\n",
       "    </tr>\n",
       "  </tbody>\n",
       "</table>\n",
       "</div>"
      ],
      "text/plain": [
       "  financial_year state  area_of_expenditure broad_source_of_funding  \\\n",
       "0        1997-98   NSW       Administration              Government   \n",
       "1        1997-98   NSW       Administration              Government   \n",
       "2        1997-98   NSW       Administration          Non-government   \n",
       "3        1997-98   NSW  Aids and appliances              Government   \n",
       "4        1997-98   NSW  Aids and appliances          Non-government   \n",
       "\n",
       "       detailed_source_of_funding  real_expenditure_millions  \n",
       "0           Australian Government                      315.0  \n",
       "1                 State and local                      120.0  \n",
       "2  Private health insurance funds                      314.0  \n",
       "3           Australian Government                       65.0  \n",
       "4                     Individuals                      168.0  "
      ]
     },
     "execution_count": 5,
     "metadata": {},
     "output_type": "execute_result"
    }
   ],
   "source": [
    "#importing the csv file\n",
    "df = pd.read_csv('healthexpenditurebyareaandsource.csv', sep = ',')\n",
    "df.head(5)"
   ]
  },
  {
   "cell_type": "code",
   "execution_count": 6,
   "metadata": {},
   "outputs": [
    {
     "name": "stderr",
     "output_type": "stream",
     "text": [
      "C:\\ProgramData\\Anaconda3\\lib\\site-packages\\pandas\\core\\groupby\\groupby.py:4656: FutureWarning: using a dict with renaming is deprecated and will be removed in a future version\n",
      "  return super(DataFrameGroupBy, self).aggregate(arg, *args, **kwargs)\n"
     ]
    },
    {
     "data": {
      "text/html": [
       "<div>\n",
       "<style scoped>\n",
       "    .dataframe tbody tr th:only-of-type {\n",
       "        vertical-align: middle;\n",
       "    }\n",
       "\n",
       "    .dataframe tbody tr th {\n",
       "        vertical-align: top;\n",
       "    }\n",
       "\n",
       "    .dataframe thead th {\n",
       "        text-align: right;\n",
       "    }\n",
       "</style>\n",
       "<table border=\"1\" class=\"dataframe\">\n",
       "  <thead>\n",
       "    <tr style=\"text-align: right;\">\n",
       "      <th></th>\n",
       "      <th>STATE</th>\n",
       "      <th>EXPENSES</th>\n",
       "    </tr>\n",
       "  </thead>\n",
       "  <tbody>\n",
       "    <tr>\n",
       "      <th>0</th>\n",
       "      <td>ACT</td>\n",
       "      <td>837</td>\n",
       "    </tr>\n",
       "    <tr>\n",
       "      <th>1</th>\n",
       "      <td>NSW</td>\n",
       "      <td>843</td>\n",
       "    </tr>\n",
       "    <tr>\n",
       "      <th>2</th>\n",
       "      <td>NT</td>\n",
       "      <td>851</td>\n",
       "    </tr>\n",
       "    <tr>\n",
       "      <th>3</th>\n",
       "      <td>QLD</td>\n",
       "      <td>851</td>\n",
       "    </tr>\n",
       "    <tr>\n",
       "      <th>4</th>\n",
       "      <td>SA</td>\n",
       "      <td>861</td>\n",
       "    </tr>\n",
       "    <tr>\n",
       "      <th>5</th>\n",
       "      <td>TAS</td>\n",
       "      <td>838</td>\n",
       "    </tr>\n",
       "    <tr>\n",
       "      <th>6</th>\n",
       "      <td>VIC</td>\n",
       "      <td>833</td>\n",
       "    </tr>\n",
       "    <tr>\n",
       "      <th>7</th>\n",
       "      <td>WA</td>\n",
       "      <td>864</td>\n",
       "    </tr>\n",
       "  </tbody>\n",
       "</table>\n",
       "</div>"
      ],
      "text/plain": [
       "  STATE  EXPENSES\n",
       "0   ACT       837\n",
       "1   NSW       843\n",
       "2    NT       851\n",
       "3   QLD       851\n",
       "4    SA       861\n",
       "5   TAS       838\n",
       "6   VIC       833\n",
       "7    WA       864"
      ]
     },
     "execution_count": 6,
     "metadata": {},
     "output_type": "execute_result"
    }
   ],
   "source": [
    "#show the expenditure for each  states\n",
    "#aggreation function for counting the expenses\n",
    "function = {'real_expenditure_millions':{'EXPENSES':'count'}}\n",
    "group = df.groupby('state').agg(function).reset_index() #grouping by state name then resetting the indexes\n",
    "group.columns = group.columns.droplevel(0) #dropping the column level to zero  \n",
    "group.rename(columns = {'':'STATE'},inplace = True)#renaming forst column as STATES\n",
    "group"
   ]
  },
  {
   "cell_type": "code",
   "execution_count": 7,
   "metadata": {},
   "outputs": [
    {
     "data": {
      "text/plain": [
       "Text(0.5,1,'BOXPLOT SHOWING EXPENSES FOR EACH STATE')"
      ]
     },
     "execution_count": 7,
     "metadata": {},
     "output_type": "execute_result"
    },
    {
     "data": {
      "image/png": "[encoded data removed]",
      "text/plain": [
       "<Figure size 1080x576 with 1 Axes>"
      ]
     },
     "metadata": {
      "needs_background": "light"
     },
     "output_type": "display_data"
    }
   ],
   "source": [
    "#now we have got the expenses state wise : plot the expenditures for each state\n",
    "plt.figure(figsize = (15,8))\n",
    "#box plot based on x and y axis \n",
    "sns.boxplot(x = 'state', y = 'real_expenditure_millions', data = df)\n",
    "plt.title('BOXPLOT SHOWING EXPENSES FOR EACH STATE') #ttile for the plot"
   ]
  },
  {
   "cell_type": "code",
   "execution_count": 8,
   "metadata": {},
   "outputs": [
    {
     "name": "stdout",
     "output_type": "stream",
     "text": [
      "                                      Expense\n",
      "state detailed_source_of_funding             \n",
      "QLD   Australian Government             152.0\n",
      "      Individuals                       259.0\n",
      "      Other non-government               22.0\n",
      "      Private health insurance funds     59.5\n",
      "      State and local                   188.0\n",
      "VIC   Australian Government             180.0\n",
      "      Individuals                       365.0\n",
      "      Other non-government               67.0\n",
      "      Private health insurance funds     92.5\n",
      "      State and local                   199.0\n"
     ]
    },
    {
     "name": "stderr",
     "output_type": "stream",
     "text": [
      "C:\\ProgramData\\Anaconda3\\lib\\site-packages\\pandas\\core\\groupby\\groupby.py:4656: FutureWarning: using a dict with renaming is deprecated and will be removed in a future version\n",
      "  return super(DataFrameGroupBy, self).aggregate(arg, *args, **kwargs)\n"
     ]
    }
   ],
   "source": [
    "#Print the median expenses of victoria and QLD  grouped by detailed source of funding.\n",
    "\n",
    "fun  = {'real_expenditure_millions':{'Expense':'median'}}\n",
    "group = df.groupby(['state','detailed_source_of_funding']).agg(fun).loc[['VIC','QLD'],:]\n",
    "group.reset_index()\n",
    "group.columns = group.columns.droplevel(0)\n",
    "group.rename(columns ={'':'State'},inplace = True)\n",
    "print(group)"
   ]
  },
  {
   "cell_type": "code",
   "execution_count": 9,
   "metadata": {},
   "outputs": [
    {
     "name": "stderr",
     "output_type": "stream",
     "text": [
      "C:\\ProgramData\\Anaconda3\\lib\\site-packages\\pandas\\core\\groupby\\groupby.py:4656: FutureWarning: using a dict with renaming is deprecated and will be removed in a future version\n",
      "  return super(DataFrameGroupBy, self).aggregate(arg, *args, **kwargs)\n"
     ]
    },
    {
     "data": {
      "text/html": [
       "<div>\n",
       "<style scoped>\n",
       "    .dataframe tbody tr th:only-of-type {\n",
       "        vertical-align: middle;\n",
       "    }\n",
       "\n",
       "    .dataframe tbody tr th {\n",
       "        vertical-align: top;\n",
       "    }\n",
       "\n",
       "    .dataframe thead th {\n",
       "        text-align: right;\n",
       "    }\n",
       "</style>\n",
       "<table border=\"1\" class=\"dataframe\">\n",
       "  <thead>\n",
       "    <tr style=\"text-align: right;\">\n",
       "      <th></th>\n",
       "      <th>State</th>\n",
       "      <th>Year</th>\n",
       "      <th>Expenses</th>\n",
       "    </tr>\n",
       "  </thead>\n",
       "  <tbody>\n",
       "    <tr>\n",
       "      <th>0</th>\n",
       "      <td>ACT</td>\n",
       "      <td>1997-98</td>\n",
       "      <td>26.066667</td>\n",
       "    </tr>\n",
       "    <tr>\n",
       "      <th>1</th>\n",
       "      <td>ACT</td>\n",
       "      <td>1998-99</td>\n",
       "      <td>24.703704</td>\n",
       "    </tr>\n",
       "    <tr>\n",
       "      <th>2</th>\n",
       "      <td>ACT</td>\n",
       "      <td>1999-00</td>\n",
       "      <td>28.345455</td>\n",
       "    </tr>\n",
       "    <tr>\n",
       "      <th>3</th>\n",
       "      <td>ACT</td>\n",
       "      <td>2000-01</td>\n",
       "      <td>25.909091</td>\n",
       "    </tr>\n",
       "    <tr>\n",
       "      <th>4</th>\n",
       "      <td>ACT</td>\n",
       "      <td>2001-02</td>\n",
       "      <td>27.875000</td>\n",
       "    </tr>\n",
       "    <tr>\n",
       "      <th>5</th>\n",
       "      <td>ACT</td>\n",
       "      <td>2002-03</td>\n",
       "      <td>30.303571</td>\n",
       "    </tr>\n",
       "    <tr>\n",
       "      <th>6</th>\n",
       "      <td>ACT</td>\n",
       "      <td>2003-04</td>\n",
       "      <td>30.879310</td>\n",
       "    </tr>\n",
       "    <tr>\n",
       "      <th>7</th>\n",
       "      <td>ACT</td>\n",
       "      <td>2004-05</td>\n",
       "      <td>32.948276</td>\n",
       "    </tr>\n",
       "    <tr>\n",
       "      <th>8</th>\n",
       "      <td>ACT</td>\n",
       "      <td>2005-06</td>\n",
       "      <td>33.810345</td>\n",
       "    </tr>\n",
       "    <tr>\n",
       "      <th>9</th>\n",
       "      <td>ACT</td>\n",
       "      <td>2006-07</td>\n",
       "      <td>34.724138</td>\n",
       "    </tr>\n",
       "    <tr>\n",
       "      <th>10</th>\n",
       "      <td>ACT</td>\n",
       "      <td>2007-08</td>\n",
       "      <td>35.706897</td>\n",
       "    </tr>\n",
       "    <tr>\n",
       "      <th>11</th>\n",
       "      <td>ACT</td>\n",
       "      <td>2008-09</td>\n",
       "      <td>39.963636</td>\n",
       "    </tr>\n",
       "    <tr>\n",
       "      <th>12</th>\n",
       "      <td>ACT</td>\n",
       "      <td>2009-10</td>\n",
       "      <td>41.781818</td>\n",
       "    </tr>\n",
       "    <tr>\n",
       "      <th>13</th>\n",
       "      <td>ACT</td>\n",
       "      <td>2010-11</td>\n",
       "      <td>43.482759</td>\n",
       "    </tr>\n",
       "    <tr>\n",
       "      <th>14</th>\n",
       "      <td>ACT</td>\n",
       "      <td>2011-12</td>\n",
       "      <td>47.327586</td>\n",
       "    </tr>\n",
       "    <tr>\n",
       "      <th>15</th>\n",
       "      <td>NSW</td>\n",
       "      <td>1997-98</td>\n",
       "      <td>426.547170</td>\n",
       "    </tr>\n",
       "    <tr>\n",
       "      <th>16</th>\n",
       "      <td>NSW</td>\n",
       "      <td>1998-99</td>\n",
       "      <td>426.333333</td>\n",
       "    </tr>\n",
       "    <tr>\n",
       "      <th>17</th>\n",
       "      <td>NSW</td>\n",
       "      <td>1999-00</td>\n",
       "      <td>453.351852</td>\n",
       "    </tr>\n",
       "    <tr>\n",
       "      <th>18</th>\n",
       "      <td>NSW</td>\n",
       "      <td>2000-01</td>\n",
       "      <td>479.963636</td>\n",
       "    </tr>\n",
       "    <tr>\n",
       "      <th>19</th>\n",
       "      <td>NSW</td>\n",
       "      <td>2001-02</td>\n",
       "      <td>491.857143</td>\n",
       "    </tr>\n",
       "    <tr>\n",
       "      <th>20</th>\n",
       "      <td>NSW</td>\n",
       "      <td>2002-03</td>\n",
       "      <td>514.250000</td>\n",
       "    </tr>\n",
       "    <tr>\n",
       "      <th>21</th>\n",
       "      <td>NSW</td>\n",
       "      <td>2003-04</td>\n",
       "      <td>523.103448</td>\n",
       "    </tr>\n",
       "    <tr>\n",
       "      <th>22</th>\n",
       "      <td>NSW</td>\n",
       "      <td>2004-05</td>\n",
       "      <td>556.775862</td>\n",
       "    </tr>\n",
       "    <tr>\n",
       "      <th>23</th>\n",
       "      <td>NSW</td>\n",
       "      <td>2005-06</td>\n",
       "      <td>579.910714</td>\n",
       "    </tr>\n",
       "    <tr>\n",
       "      <th>24</th>\n",
       "      <td>NSW</td>\n",
       "      <td>2006-07</td>\n",
       "      <td>608.017857</td>\n",
       "    </tr>\n",
       "    <tr>\n",
       "      <th>25</th>\n",
       "      <td>NSW</td>\n",
       "      <td>2007-08</td>\n",
       "      <td>646.464286</td>\n",
       "    </tr>\n",
       "    <tr>\n",
       "      <th>26</th>\n",
       "      <td>NSW</td>\n",
       "      <td>2008-09</td>\n",
       "      <td>684.285714</td>\n",
       "    </tr>\n",
       "    <tr>\n",
       "      <th>27</th>\n",
       "      <td>NSW</td>\n",
       "      <td>2009-10</td>\n",
       "      <td>711.267857</td>\n",
       "    </tr>\n",
       "    <tr>\n",
       "      <th>28</th>\n",
       "      <td>NSW</td>\n",
       "      <td>2010-11</td>\n",
       "      <td>714.086207</td>\n",
       "    </tr>\n",
       "    <tr>\n",
       "      <th>29</th>\n",
       "      <td>NSW</td>\n",
       "      <td>2011-12</td>\n",
       "      <td>746.724138</td>\n",
       "    </tr>\n",
       "    <tr>\n",
       "      <th>...</th>\n",
       "      <td>...</td>\n",
       "      <td>...</td>\n",
       "      <td>...</td>\n",
       "    </tr>\n",
       "    <tr>\n",
       "      <th>90</th>\n",
       "      <td>VIC</td>\n",
       "      <td>1997-98</td>\n",
       "      <td>292.537037</td>\n",
       "    </tr>\n",
       "    <tr>\n",
       "      <th>91</th>\n",
       "      <td>VIC</td>\n",
       "      <td>1998-99</td>\n",
       "      <td>313.509434</td>\n",
       "    </tr>\n",
       "    <tr>\n",
       "      <th>92</th>\n",
       "      <td>VIC</td>\n",
       "      <td>1999-00</td>\n",
       "      <td>320.290909</td>\n",
       "    </tr>\n",
       "    <tr>\n",
       "      <th>93</th>\n",
       "      <td>VIC</td>\n",
       "      <td>2000-01</td>\n",
       "      <td>351.290909</td>\n",
       "    </tr>\n",
       "    <tr>\n",
       "      <th>94</th>\n",
       "      <td>VIC</td>\n",
       "      <td>2001-02</td>\n",
       "      <td>373.839286</td>\n",
       "    </tr>\n",
       "    <tr>\n",
       "      <th>95</th>\n",
       "      <td>VIC</td>\n",
       "      <td>2002-03</td>\n",
       "      <td>407.750000</td>\n",
       "    </tr>\n",
       "    <tr>\n",
       "      <th>96</th>\n",
       "      <td>VIC</td>\n",
       "      <td>2003-04</td>\n",
       "      <td>381.534483</td>\n",
       "    </tr>\n",
       "    <tr>\n",
       "      <th>97</th>\n",
       "      <td>VIC</td>\n",
       "      <td>2004-05</td>\n",
       "      <td>405.086207</td>\n",
       "    </tr>\n",
       "    <tr>\n",
       "      <th>98</th>\n",
       "      <td>VIC</td>\n",
       "      <td>2005-06</td>\n",
       "      <td>450.518519</td>\n",
       "    </tr>\n",
       "    <tr>\n",
       "      <th>99</th>\n",
       "      <td>VIC</td>\n",
       "      <td>2006-07</td>\n",
       "      <td>465.127273</td>\n",
       "    </tr>\n",
       "    <tr>\n",
       "      <th>100</th>\n",
       "      <td>VIC</td>\n",
       "      <td>2007-08</td>\n",
       "      <td>480.181818</td>\n",
       "    </tr>\n",
       "    <tr>\n",
       "      <th>101</th>\n",
       "      <td>VIC</td>\n",
       "      <td>2008-09</td>\n",
       "      <td>508.857143</td>\n",
       "    </tr>\n",
       "    <tr>\n",
       "      <th>102</th>\n",
       "      <td>VIC</td>\n",
       "      <td>2009-10</td>\n",
       "      <td>539.107143</td>\n",
       "    </tr>\n",
       "    <tr>\n",
       "      <th>103</th>\n",
       "      <td>VIC</td>\n",
       "      <td>2010-11</td>\n",
       "      <td>579.160714</td>\n",
       "    </tr>\n",
       "    <tr>\n",
       "      <th>104</th>\n",
       "      <td>VIC</td>\n",
       "      <td>2011-12</td>\n",
       "      <td>607.767857</td>\n",
       "    </tr>\n",
       "    <tr>\n",
       "      <th>105</th>\n",
       "      <td>WA</td>\n",
       "      <td>1997-98</td>\n",
       "      <td>121.452830</td>\n",
       "    </tr>\n",
       "    <tr>\n",
       "      <th>106</th>\n",
       "      <td>WA</td>\n",
       "      <td>1998-99</td>\n",
       "      <td>122.200000</td>\n",
       "    </tr>\n",
       "    <tr>\n",
       "      <th>107</th>\n",
       "      <td>WA</td>\n",
       "      <td>1999-00</td>\n",
       "      <td>118.741379</td>\n",
       "    </tr>\n",
       "    <tr>\n",
       "      <th>108</th>\n",
       "      <td>WA</td>\n",
       "      <td>2000-01</td>\n",
       "      <td>133.309091</td>\n",
       "    </tr>\n",
       "    <tr>\n",
       "      <th>109</th>\n",
       "      <td>WA</td>\n",
       "      <td>2001-02</td>\n",
       "      <td>143.436364</td>\n",
       "    </tr>\n",
       "    <tr>\n",
       "      <th>110</th>\n",
       "      <td>WA</td>\n",
       "      <td>2002-03</td>\n",
       "      <td>153.607143</td>\n",
       "    </tr>\n",
       "    <tr>\n",
       "      <th>111</th>\n",
       "      <td>WA</td>\n",
       "      <td>2003-04</td>\n",
       "      <td>157.206897</td>\n",
       "    </tr>\n",
       "    <tr>\n",
       "      <th>112</th>\n",
       "      <td>WA</td>\n",
       "      <td>2004-05</td>\n",
       "      <td>171.948276</td>\n",
       "    </tr>\n",
       "    <tr>\n",
       "      <th>113</th>\n",
       "      <td>WA</td>\n",
       "      <td>2005-06</td>\n",
       "      <td>175.655172</td>\n",
       "    </tr>\n",
       "    <tr>\n",
       "      <th>114</th>\n",
       "      <td>WA</td>\n",
       "      <td>2006-07</td>\n",
       "      <td>186.620690</td>\n",
       "    </tr>\n",
       "    <tr>\n",
       "      <th>115</th>\n",
       "      <td>WA</td>\n",
       "      <td>2007-08</td>\n",
       "      <td>201.465517</td>\n",
       "    </tr>\n",
       "    <tr>\n",
       "      <th>116</th>\n",
       "      <td>WA</td>\n",
       "      <td>2008-09</td>\n",
       "      <td>203.655738</td>\n",
       "    </tr>\n",
       "    <tr>\n",
       "      <th>117</th>\n",
       "      <td>WA</td>\n",
       "      <td>2009-10</td>\n",
       "      <td>207.065574</td>\n",
       "    </tr>\n",
       "    <tr>\n",
       "      <th>118</th>\n",
       "      <td>WA</td>\n",
       "      <td>2010-11</td>\n",
       "      <td>234.116667</td>\n",
       "    </tr>\n",
       "    <tr>\n",
       "      <th>119</th>\n",
       "      <td>WA</td>\n",
       "      <td>2011-12</td>\n",
       "      <td>252.166667</td>\n",
       "    </tr>\n",
       "  </tbody>\n",
       "</table>\n",
       "<p>120 rows × 3 columns</p>\n",
       "</div>"
      ],
      "text/plain": [
       "    State     Year    Expenses\n",
       "0     ACT  1997-98   26.066667\n",
       "1     ACT  1998-99   24.703704\n",
       "2     ACT  1999-00   28.345455\n",
       "3     ACT  2000-01   25.909091\n",
       "4     ACT  2001-02   27.875000\n",
       "5     ACT  2002-03   30.303571\n",
       "6     ACT  2003-04   30.879310\n",
       "7     ACT  2004-05   32.948276\n",
       "8     ACT  2005-06   33.810345\n",
       "9     ACT  2006-07   34.724138\n",
       "10    ACT  2007-08   35.706897\n",
       "11    ACT  2008-09   39.963636\n",
       "12    ACT  2009-10   41.781818\n",
       "13    ACT  2010-11   43.482759\n",
       "14    ACT  2011-12   47.327586\n",
       "15    NSW  1997-98  426.547170\n",
       "16    NSW  1998-99  426.333333\n",
       "17    NSW  1999-00  453.351852\n",
       "18    NSW  2000-01  479.963636\n",
       "19    NSW  2001-02  491.857143\n",
       "20    NSW  2002-03  514.250000\n",
       "21    NSW  2003-04  523.103448\n",
       "22    NSW  2004-05  556.775862\n",
       "23    NSW  2005-06  579.910714\n",
       "24    NSW  2006-07  608.017857\n",
       "25    NSW  2007-08  646.464286\n",
       "26    NSW  2008-09  684.285714\n",
       "27    NSW  2009-10  711.267857\n",
       "28    NSW  2010-11  714.086207\n",
       "29    NSW  2011-12  746.724138\n",
       "..    ...      ...         ...\n",
       "90    VIC  1997-98  292.537037\n",
       "91    VIC  1998-99  313.509434\n",
       "92    VIC  1999-00  320.290909\n",
       "93    VIC  2000-01  351.290909\n",
       "94    VIC  2001-02  373.839286\n",
       "95    VIC  2002-03  407.750000\n",
       "96    VIC  2003-04  381.534483\n",
       "97    VIC  2004-05  405.086207\n",
       "98    VIC  2005-06  450.518519\n",
       "99    VIC  2006-07  465.127273\n",
       "100   VIC  2007-08  480.181818\n",
       "101   VIC  2008-09  508.857143\n",
       "102   VIC  2009-10  539.107143\n",
       "103   VIC  2010-11  579.160714\n",
       "104   VIC  2011-12  607.767857\n",
       "105    WA  1997-98  121.452830\n",
       "106    WA  1998-99  122.200000\n",
       "107    WA  1999-00  118.741379\n",
       "108    WA  2000-01  133.309091\n",
       "109    WA  2001-02  143.436364\n",
       "110    WA  2002-03  153.607143\n",
       "111    WA  2003-04  157.206897\n",
       "112    WA  2004-05  171.948276\n",
       "113    WA  2005-06  175.655172\n",
       "114    WA  2006-07  186.620690\n",
       "115    WA  2007-08  201.465517\n",
       "116    WA  2008-09  203.655738\n",
       "117    WA  2009-10  207.065574\n",
       "118    WA  2010-11  234.116667\n",
       "119    WA  2011-12  252.166667\n",
       "\n",
       "[120 rows x 3 columns]"
      ]
     },
     "execution_count": 9,
     "metadata": {},
     "output_type": "execute_result"
    }
   ],
   "source": [
    "#print the average expenditure of each state on year by year basis\n",
    "fun  = {'real_expenditure_millions':{'Expenses':'mean'}}\n",
    "group = df.groupby(['state','financial_year']).agg(fun).reset_index()\n",
    "group.columns = group.columns.droplevel(0)\n",
    "#group.columns={'','year'},inplace = True)\n",
    "group.columns.values[0] = 'State' #re-naming first column as state\n",
    "group.columns.values[1] = 'Year' #re-naming second column as year\n",
    "group"
   ]
  },
  {
   "cell_type": "code",
   "execution_count": 10,
   "metadata": {},
   "outputs": [
    {
     "data": {
      "text/plain": [
       "<matplotlib.axes._subplots.AxesSubplot at 0x1f0651588d0>"
      ]
     },
     "execution_count": 10,
     "metadata": {},
     "output_type": "execute_result"
    },
    {
     "data": {
      "image/png": "[encoded data removed]",
      "text/plain": [
       "<Figure size 1080x576 with 1 Axes>"
      ]
     },
     "metadata": {
      "needs_background": "light"
     },
     "output_type": "display_data"
    }
   ],
   "source": [
    "#bar plot of the average expenses by each state for respective financial year\n",
    "plt.figure(figsize = (15,8))\n",
    "#barplot for average expense\n",
    "#x asis as year, y as Expenses\n",
    "sns.barplot(x = 'Year', y = 'Expenses', hue = 'State', data = group)\n"
   ]
  },
  {
   "cell_type": "code",
   "execution_count": 11,
   "metadata": {},
   "outputs": [
    {
     "data": {
      "text/html": [
       "<div>\n",
       "<style scoped>\n",
       "    .dataframe tbody tr th:only-of-type {\n",
       "        vertical-align: middle;\n",
       "    }\n",
       "\n",
       "    .dataframe tbody tr th {\n",
       "        vertical-align: top;\n",
       "    }\n",
       "\n",
       "    .dataframe thead th {\n",
       "        text-align: right;\n",
       "    }\n",
       "</style>\n",
       "<table border=\"1\" class=\"dataframe\">\n",
       "  <thead>\n",
       "    <tr style=\"text-align: right;\">\n",
       "      <th></th>\n",
       "      <th>financial_year</th>\n",
       "      <th>state</th>\n",
       "      <th>area_of_expenditure</th>\n",
       "      <th>broad_source_of_funding</th>\n",
       "      <th>detailed_source_of_funding</th>\n",
       "      <th>real_expenditure_millions</th>\n",
       "    </tr>\n",
       "  </thead>\n",
       "  <tbody>\n",
       "    <tr>\n",
       "      <th>0</th>\n",
       "      <td>1997-98</td>\n",
       "      <td>NSW</td>\n",
       "      <td>Administration</td>\n",
       "      <td>Government</td>\n",
       "      <td>Australian Government</td>\n",
       "      <td>315.0</td>\n",
       "    </tr>\n",
       "    <tr>\n",
       "      <th>1</th>\n",
       "      <td>1997-98</td>\n",
       "      <td>NSW</td>\n",
       "      <td>Administration</td>\n",
       "      <td>Government</td>\n",
       "      <td>State and local</td>\n",
       "      <td>120.0</td>\n",
       "    </tr>\n",
       "    <tr>\n",
       "      <th>2</th>\n",
       "      <td>1997-98</td>\n",
       "      <td>NSW</td>\n",
       "      <td>Administration</td>\n",
       "      <td>Non-government</td>\n",
       "      <td>Private health insurance funds</td>\n",
       "      <td>314.0</td>\n",
       "    </tr>\n",
       "    <tr>\n",
       "      <th>3</th>\n",
       "      <td>1997-98</td>\n",
       "      <td>NSW</td>\n",
       "      <td>Aids and appliances</td>\n",
       "      <td>Government</td>\n",
       "      <td>Australian Government</td>\n",
       "      <td>65.0</td>\n",
       "    </tr>\n",
       "    <tr>\n",
       "      <th>4</th>\n",
       "      <td>1997-98</td>\n",
       "      <td>NSW</td>\n",
       "      <td>Aids and appliances</td>\n",
       "      <td>Non-government</td>\n",
       "      <td>Individuals</td>\n",
       "      <td>168.0</td>\n",
       "    </tr>\n",
       "    <tr>\n",
       "      <th>5</th>\n",
       "      <td>1997-98</td>\n",
       "      <td>NSW</td>\n",
       "      <td>Aids and appliances</td>\n",
       "      <td>Non-government</td>\n",
       "      <td>Other non-government</td>\n",
       "      <td>18.0</td>\n",
       "    </tr>\n",
       "    <tr>\n",
       "      <th>6</th>\n",
       "      <td>1997-98</td>\n",
       "      <td>NSW</td>\n",
       "      <td>Aids and appliances</td>\n",
       "      <td>Non-government</td>\n",
       "      <td>Private health insurance funds</td>\n",
       "      <td>78.0</td>\n",
       "    </tr>\n",
       "    <tr>\n",
       "      <th>7</th>\n",
       "      <td>1997-98</td>\n",
       "      <td>NSW</td>\n",
       "      <td>All other medications</td>\n",
       "      <td>Government</td>\n",
       "      <td>Australian Government</td>\n",
       "      <td>5.0</td>\n",
       "    </tr>\n",
       "    <tr>\n",
       "      <th>8</th>\n",
       "      <td>1997-98</td>\n",
       "      <td>NSW</td>\n",
       "      <td>All other medications</td>\n",
       "      <td>Non-government</td>\n",
       "      <td>Individuals</td>\n",
       "      <td>559.0</td>\n",
       "    </tr>\n",
       "    <tr>\n",
       "      <th>9</th>\n",
       "      <td>1997-98</td>\n",
       "      <td>NSW</td>\n",
       "      <td>All other medications</td>\n",
       "      <td>Non-government</td>\n",
       "      <td>Other non-government</td>\n",
       "      <td>16.0</td>\n",
       "    </tr>\n",
       "    <tr>\n",
       "      <th>10</th>\n",
       "      <td>1997-98</td>\n",
       "      <td>NSW</td>\n",
       "      <td>All other medications</td>\n",
       "      <td>Non-government</td>\n",
       "      <td>Private health insurance funds</td>\n",
       "      <td>16.0</td>\n",
       "    </tr>\n",
       "    <tr>\n",
       "      <th>11</th>\n",
       "      <td>1997-98</td>\n",
       "      <td>NSW</td>\n",
       "      <td>Benefit-paid pharmaceuticals</td>\n",
       "      <td>Government</td>\n",
       "      <td>Australian Government</td>\n",
       "      <td>1068.0</td>\n",
       "    </tr>\n",
       "    <tr>\n",
       "      <th>12</th>\n",
       "      <td>1997-98</td>\n",
       "      <td>NSW</td>\n",
       "      <td>Benefit-paid pharmaceuticals</td>\n",
       "      <td>Non-government</td>\n",
       "      <td>Individuals</td>\n",
       "      <td>221.0</td>\n",
       "    </tr>\n",
       "    <tr>\n",
       "      <th>13</th>\n",
       "      <td>1997-98</td>\n",
       "      <td>NSW</td>\n",
       "      <td>Capital expenditure</td>\n",
       "      <td>Government</td>\n",
       "      <td>Australian Government</td>\n",
       "      <td>19.0</td>\n",
       "    </tr>\n",
       "    <tr>\n",
       "      <th>14</th>\n",
       "      <td>1997-98</td>\n",
       "      <td>NSW</td>\n",
       "      <td>Capital expenditure</td>\n",
       "      <td>Government</td>\n",
       "      <td>State and local</td>\n",
       "      <td>420.0</td>\n",
       "    </tr>\n",
       "    <tr>\n",
       "      <th>15</th>\n",
       "      <td>1997-98</td>\n",
       "      <td>NSW</td>\n",
       "      <td>Capital expenditure</td>\n",
       "      <td>Non-government</td>\n",
       "      <td>Other non-government</td>\n",
       "      <td>464.0</td>\n",
       "    </tr>\n",
       "    <tr>\n",
       "      <th>16</th>\n",
       "      <td>1997-98</td>\n",
       "      <td>NSW</td>\n",
       "      <td>Community health</td>\n",
       "      <td>Government</td>\n",
       "      <td>Australian Government</td>\n",
       "      <td>225.0</td>\n",
       "    </tr>\n",
       "    <tr>\n",
       "      <th>17</th>\n",
       "      <td>1997-98</td>\n",
       "      <td>NSW</td>\n",
       "      <td>Community health</td>\n",
       "      <td>Government</td>\n",
       "      <td>State and local</td>\n",
       "      <td>504.0</td>\n",
       "    </tr>\n",
       "    <tr>\n",
       "      <th>18</th>\n",
       "      <td>1997-98</td>\n",
       "      <td>NSW</td>\n",
       "      <td>Community health</td>\n",
       "      <td>Non-government</td>\n",
       "      <td>Private health insurance funds</td>\n",
       "      <td>1.0</td>\n",
       "    </tr>\n",
       "    <tr>\n",
       "      <th>19</th>\n",
       "      <td>1997-98</td>\n",
       "      <td>NSW</td>\n",
       "      <td>Dental services</td>\n",
       "      <td>Government</td>\n",
       "      <td>Australian Government</td>\n",
       "      <td>60.0</td>\n",
       "    </tr>\n",
       "    <tr>\n",
       "      <th>20</th>\n",
       "      <td>1997-98</td>\n",
       "      <td>NSW</td>\n",
       "      <td>Dental services</td>\n",
       "      <td>Government</td>\n",
       "      <td>State and local</td>\n",
       "      <td>156.0</td>\n",
       "    </tr>\n",
       "    <tr>\n",
       "      <th>21</th>\n",
       "      <td>1997-98</td>\n",
       "      <td>NSW</td>\n",
       "      <td>Dental services</td>\n",
       "      <td>Non-government</td>\n",
       "      <td>Individuals</td>\n",
       "      <td>1023.0</td>\n",
       "    </tr>\n",
       "    <tr>\n",
       "      <th>22</th>\n",
       "      <td>1997-98</td>\n",
       "      <td>NSW</td>\n",
       "      <td>Dental services</td>\n",
       "      <td>Non-government</td>\n",
       "      <td>Other non-government</td>\n",
       "      <td>6.0</td>\n",
       "    </tr>\n",
       "    <tr>\n",
       "      <th>23</th>\n",
       "      <td>1997-98</td>\n",
       "      <td>NSW</td>\n",
       "      <td>Dental services</td>\n",
       "      <td>Non-government</td>\n",
       "      <td>Private health insurance funds</td>\n",
       "      <td>351.0</td>\n",
       "    </tr>\n",
       "    <tr>\n",
       "      <th>24</th>\n",
       "      <td>1997-98</td>\n",
       "      <td>NSW</td>\n",
       "      <td>Medical expense tax rebate</td>\n",
       "      <td>Government</td>\n",
       "      <td>Australian Government</td>\n",
       "      <td>84.0</td>\n",
       "    </tr>\n",
       "    <tr>\n",
       "      <th>25</th>\n",
       "      <td>1997-98</td>\n",
       "      <td>NSW</td>\n",
       "      <td>Medical expense tax rebate</td>\n",
       "      <td>Non-government</td>\n",
       "      <td>Individuals</td>\n",
       "      <td>-84.0</td>\n",
       "    </tr>\n",
       "    <tr>\n",
       "      <th>26</th>\n",
       "      <td>1997-98</td>\n",
       "      <td>NSW</td>\n",
       "      <td>Medical services</td>\n",
       "      <td>Government</td>\n",
       "      <td>Australian Government</td>\n",
       "      <td>4298.0</td>\n",
       "    </tr>\n",
       "    <tr>\n",
       "      <th>27</th>\n",
       "      <td>1997-98</td>\n",
       "      <td>NSW</td>\n",
       "      <td>Medical services</td>\n",
       "      <td>Non-government</td>\n",
       "      <td>Individuals</td>\n",
       "      <td>522.0</td>\n",
       "    </tr>\n",
       "    <tr>\n",
       "      <th>28</th>\n",
       "      <td>1997-98</td>\n",
       "      <td>NSW</td>\n",
       "      <td>Medical services</td>\n",
       "      <td>Non-government</td>\n",
       "      <td>Other non-government</td>\n",
       "      <td>322.0</td>\n",
       "    </tr>\n",
       "    <tr>\n",
       "      <th>29</th>\n",
       "      <td>1997-98</td>\n",
       "      <td>NSW</td>\n",
       "      <td>Medical services</td>\n",
       "      <td>Non-government</td>\n",
       "      <td>Private health insurance funds</td>\n",
       "      <td>112.0</td>\n",
       "    </tr>\n",
       "    <tr>\n",
       "      <th>...</th>\n",
       "      <td>...</td>\n",
       "      <td>...</td>\n",
       "      <td>...</td>\n",
       "      <td>...</td>\n",
       "      <td>...</td>\n",
       "      <td>...</td>\n",
       "    </tr>\n",
       "    <tr>\n",
       "      <th>6748</th>\n",
       "      <td>2011-12</td>\n",
       "      <td>NT</td>\n",
       "      <td>Medical services</td>\n",
       "      <td>Non-government</td>\n",
       "      <td>Other non-government</td>\n",
       "      <td>14.0</td>\n",
       "    </tr>\n",
       "    <tr>\n",
       "      <th>6749</th>\n",
       "      <td>2011-12</td>\n",
       "      <td>NT</td>\n",
       "      <td>Medical services</td>\n",
       "      <td>Non-government</td>\n",
       "      <td>Private health insurance funds</td>\n",
       "      <td>5.0</td>\n",
       "    </tr>\n",
       "    <tr>\n",
       "      <th>6750</th>\n",
       "      <td>2011-12</td>\n",
       "      <td>NT</td>\n",
       "      <td>Other health practitioners</td>\n",
       "      <td>Government</td>\n",
       "      <td>Australian Government</td>\n",
       "      <td>8.0</td>\n",
       "    </tr>\n",
       "    <tr>\n",
       "      <th>6751</th>\n",
       "      <td>2011-12</td>\n",
       "      <td>NT</td>\n",
       "      <td>Other health practitioners</td>\n",
       "      <td>Government</td>\n",
       "      <td>State and local</td>\n",
       "      <td>6.0</td>\n",
       "    </tr>\n",
       "    <tr>\n",
       "      <th>6752</th>\n",
       "      <td>2011-12</td>\n",
       "      <td>NT</td>\n",
       "      <td>Other health practitioners</td>\n",
       "      <td>Non-government</td>\n",
       "      <td>Individuals</td>\n",
       "      <td>25.0</td>\n",
       "    </tr>\n",
       "    <tr>\n",
       "      <th>6753</th>\n",
       "      <td>2011-12</td>\n",
       "      <td>NT</td>\n",
       "      <td>Other health practitioners</td>\n",
       "      <td>Non-government</td>\n",
       "      <td>Other non-government</td>\n",
       "      <td>7.0</td>\n",
       "    </tr>\n",
       "    <tr>\n",
       "      <th>6754</th>\n",
       "      <td>2011-12</td>\n",
       "      <td>NT</td>\n",
       "      <td>Other health practitioners</td>\n",
       "      <td>Non-government</td>\n",
       "      <td>Private health insurance funds</td>\n",
       "      <td>3.0</td>\n",
       "    </tr>\n",
       "    <tr>\n",
       "      <th>6755</th>\n",
       "      <td>2011-12</td>\n",
       "      <td>NT</td>\n",
       "      <td>Patient transport services</td>\n",
       "      <td>Government</td>\n",
       "      <td>Australian Government</td>\n",
       "      <td>11.0</td>\n",
       "    </tr>\n",
       "    <tr>\n",
       "      <th>6756</th>\n",
       "      <td>2011-12</td>\n",
       "      <td>NT</td>\n",
       "      <td>Patient transport services</td>\n",
       "      <td>Government</td>\n",
       "      <td>State and local</td>\n",
       "      <td>58.0</td>\n",
       "    </tr>\n",
       "    <tr>\n",
       "      <th>6757</th>\n",
       "      <td>2011-12</td>\n",
       "      <td>NT</td>\n",
       "      <td>Patient transport services</td>\n",
       "      <td>Non-government</td>\n",
       "      <td>Individuals</td>\n",
       "      <td>0.0</td>\n",
       "    </tr>\n",
       "    <tr>\n",
       "      <th>6758</th>\n",
       "      <td>2011-12</td>\n",
       "      <td>NT</td>\n",
       "      <td>Patient transport services</td>\n",
       "      <td>Non-government</td>\n",
       "      <td>Other non-government</td>\n",
       "      <td>1.0</td>\n",
       "    </tr>\n",
       "    <tr>\n",
       "      <th>6759</th>\n",
       "      <td>2011-12</td>\n",
       "      <td>NT</td>\n",
       "      <td>Patient transport services</td>\n",
       "      <td>Non-government</td>\n",
       "      <td>Private health insurance funds</td>\n",
       "      <td>0.0</td>\n",
       "    </tr>\n",
       "    <tr>\n",
       "      <th>6760</th>\n",
       "      <td>2011-12</td>\n",
       "      <td>NT</td>\n",
       "      <td>Private hospitals</td>\n",
       "      <td>Government</td>\n",
       "      <td>Australian Government</td>\n",
       "      <td>12.0</td>\n",
       "    </tr>\n",
       "    <tr>\n",
       "      <th>6761</th>\n",
       "      <td>2011-12</td>\n",
       "      <td>NT</td>\n",
       "      <td>Private hospitals</td>\n",
       "      <td>Government</td>\n",
       "      <td>State and local</td>\n",
       "      <td>1.0</td>\n",
       "    </tr>\n",
       "    <tr>\n",
       "      <th>6762</th>\n",
       "      <td>2011-12</td>\n",
       "      <td>NT</td>\n",
       "      <td>Private hospitals</td>\n",
       "      <td>Non-government</td>\n",
       "      <td>Individuals</td>\n",
       "      <td>27.0</td>\n",
       "    </tr>\n",
       "    <tr>\n",
       "      <th>6763</th>\n",
       "      <td>2011-12</td>\n",
       "      <td>NT</td>\n",
       "      <td>Private hospitals</td>\n",
       "      <td>Non-government</td>\n",
       "      <td>Other non-government</td>\n",
       "      <td>6.0</td>\n",
       "    </tr>\n",
       "    <tr>\n",
       "      <th>6764</th>\n",
       "      <td>2011-12</td>\n",
       "      <td>NT</td>\n",
       "      <td>Private hospitals</td>\n",
       "      <td>Non-government</td>\n",
       "      <td>Private health insurance funds</td>\n",
       "      <td>24.0</td>\n",
       "    </tr>\n",
       "    <tr>\n",
       "      <th>6765</th>\n",
       "      <td>2011-12</td>\n",
       "      <td>NT</td>\n",
       "      <td>Public health</td>\n",
       "      <td>Government</td>\n",
       "      <td>Australian Government</td>\n",
       "      <td>35.0</td>\n",
       "    </tr>\n",
       "    <tr>\n",
       "      <th>6766</th>\n",
       "      <td>2011-12</td>\n",
       "      <td>NT</td>\n",
       "      <td>Public health</td>\n",
       "      <td>Government</td>\n",
       "      <td>State and local</td>\n",
       "      <td>80.0</td>\n",
       "    </tr>\n",
       "    <tr>\n",
       "      <th>6767</th>\n",
       "      <td>2011-12</td>\n",
       "      <td>NT</td>\n",
       "      <td>Public health</td>\n",
       "      <td>Non-government</td>\n",
       "      <td>Individuals</td>\n",
       "      <td>0.0</td>\n",
       "    </tr>\n",
       "    <tr>\n",
       "      <th>6768</th>\n",
       "      <td>2011-12</td>\n",
       "      <td>NT</td>\n",
       "      <td>Public health</td>\n",
       "      <td>Non-government</td>\n",
       "      <td>Other non-government</td>\n",
       "      <td>0.0</td>\n",
       "    </tr>\n",
       "    <tr>\n",
       "      <th>6769</th>\n",
       "      <td>2011-12</td>\n",
       "      <td>NT</td>\n",
       "      <td>Public hospitals</td>\n",
       "      <td>Government</td>\n",
       "      <td>Australian Government</td>\n",
       "      <td>202.0</td>\n",
       "    </tr>\n",
       "    <tr>\n",
       "      <th>6770</th>\n",
       "      <td>2011-12</td>\n",
       "      <td>NT</td>\n",
       "      <td>Public hospitals</td>\n",
       "      <td>Government</td>\n",
       "      <td>State and local</td>\n",
       "      <td>453.0</td>\n",
       "    </tr>\n",
       "    <tr>\n",
       "      <th>6771</th>\n",
       "      <td>2011-12</td>\n",
       "      <td>NT</td>\n",
       "      <td>Public hospitals</td>\n",
       "      <td>Non-government</td>\n",
       "      <td>Individuals</td>\n",
       "      <td>6.0</td>\n",
       "    </tr>\n",
       "    <tr>\n",
       "      <th>6772</th>\n",
       "      <td>2011-12</td>\n",
       "      <td>NT</td>\n",
       "      <td>Public hospitals</td>\n",
       "      <td>Non-government</td>\n",
       "      <td>Other non-government</td>\n",
       "      <td>2.0</td>\n",
       "    </tr>\n",
       "    <tr>\n",
       "      <th>6773</th>\n",
       "      <td>2011-12</td>\n",
       "      <td>NT</td>\n",
       "      <td>Public hospitals</td>\n",
       "      <td>Non-government</td>\n",
       "      <td>Private health insurance funds</td>\n",
       "      <td>1.0</td>\n",
       "    </tr>\n",
       "    <tr>\n",
       "      <th>6774</th>\n",
       "      <td>2011-12</td>\n",
       "      <td>NT</td>\n",
       "      <td>Research</td>\n",
       "      <td>Government</td>\n",
       "      <td>Australian Government</td>\n",
       "      <td>81.0</td>\n",
       "    </tr>\n",
       "    <tr>\n",
       "      <th>6775</th>\n",
       "      <td>2011-12</td>\n",
       "      <td>NT</td>\n",
       "      <td>Research</td>\n",
       "      <td>Government</td>\n",
       "      <td>State and local</td>\n",
       "      <td>35.0</td>\n",
       "    </tr>\n",
       "    <tr>\n",
       "      <th>6776</th>\n",
       "      <td>2011-12</td>\n",
       "      <td>NT</td>\n",
       "      <td>Research</td>\n",
       "      <td>Non-government</td>\n",
       "      <td>Individuals</td>\n",
       "      <td>0.0</td>\n",
       "    </tr>\n",
       "    <tr>\n",
       "      <th>6777</th>\n",
       "      <td>2011-12</td>\n",
       "      <td>NT</td>\n",
       "      <td>Research</td>\n",
       "      <td>Non-government</td>\n",
       "      <td>Other non-government</td>\n",
       "      <td>1.0</td>\n",
       "    </tr>\n",
       "  </tbody>\n",
       "</table>\n",
       "<p>6778 rows × 6 columns</p>\n",
       "</div>"
      ],
      "text/plain": [
       "     financial_year state           area_of_expenditure  \\\n",
       "0           1997-98   NSW                Administration   \n",
       "1           1997-98   NSW                Administration   \n",
       "2           1997-98   NSW                Administration   \n",
       "3           1997-98   NSW           Aids and appliances   \n",
       "4           1997-98   NSW           Aids and appliances   \n",
       "5           1997-98   NSW           Aids and appliances   \n",
       "6           1997-98   NSW           Aids and appliances   \n",
       "7           1997-98   NSW         All other medications   \n",
       "8           1997-98   NSW         All other medications   \n",
       "9           1997-98   NSW         All other medications   \n",
       "10          1997-98   NSW         All other medications   \n",
       "11          1997-98   NSW  Benefit-paid pharmaceuticals   \n",
       "12          1997-98   NSW  Benefit-paid pharmaceuticals   \n",
       "13          1997-98   NSW           Capital expenditure   \n",
       "14          1997-98   NSW           Capital expenditure   \n",
       "15          1997-98   NSW           Capital expenditure   \n",
       "16          1997-98   NSW              Community health   \n",
       "17          1997-98   NSW              Community health   \n",
       "18          1997-98   NSW              Community health   \n",
       "19          1997-98   NSW               Dental services   \n",
       "20          1997-98   NSW               Dental services   \n",
       "21          1997-98   NSW               Dental services   \n",
       "22          1997-98   NSW               Dental services   \n",
       "23          1997-98   NSW               Dental services   \n",
       "24          1997-98   NSW    Medical expense tax rebate   \n",
       "25          1997-98   NSW    Medical expense tax rebate   \n",
       "26          1997-98   NSW              Medical services   \n",
       "27          1997-98   NSW              Medical services   \n",
       "28          1997-98   NSW              Medical services   \n",
       "29          1997-98   NSW              Medical services   \n",
       "...             ...   ...                           ...   \n",
       "6748        2011-12    NT              Medical services   \n",
       "6749        2011-12    NT              Medical services   \n",
       "6750        2011-12    NT    Other health practitioners   \n",
       "6751        2011-12    NT    Other health practitioners   \n",
       "6752        2011-12    NT    Other health practitioners   \n",
       "6753        2011-12    NT    Other health practitioners   \n",
       "6754        2011-12    NT    Other health practitioners   \n",
       "6755        2011-12    NT    Patient transport services   \n",
       "6756        2011-12    NT    Patient transport services   \n",
       "6757        2011-12    NT    Patient transport services   \n",
       "6758        2011-12    NT    Patient transport services   \n",
       "6759        2011-12    NT    Patient transport services   \n",
       "6760        2011-12    NT             Private hospitals   \n",
       "6761        2011-12    NT             Private hospitals   \n",
       "6762        2011-12    NT             Private hospitals   \n",
       "6763        2011-12    NT             Private hospitals   \n",
       "6764        2011-12    NT             Private hospitals   \n",
       "6765        2011-12    NT                 Public health   \n",
       "6766        2011-12    NT                 Public health   \n",
       "6767        2011-12    NT                 Public health   \n",
       "6768        2011-12    NT                 Public health   \n",
       "6769        2011-12    NT              Public hospitals   \n",
       "6770        2011-12    NT              Public hospitals   \n",
       "6771        2011-12    NT              Public hospitals   \n",
       "6772        2011-12    NT              Public hospitals   \n",
       "6773        2011-12    NT              Public hospitals   \n",
       "6774        2011-12    NT                      Research   \n",
       "6775        2011-12    NT                      Research   \n",
       "6776        2011-12    NT                      Research   \n",
       "6777        2011-12    NT                      Research   \n",
       "\n",
       "     broad_source_of_funding      detailed_source_of_funding  \\\n",
       "0                 Government           Australian Government   \n",
       "1                 Government                 State and local   \n",
       "2             Non-government  Private health insurance funds   \n",
       "3                 Government           Australian Government   \n",
       "4             Non-government                     Individuals   \n",
       "5             Non-government            Other non-government   \n",
       "6             Non-government  Private health insurance funds   \n",
       "7                 Government           Australian Government   \n",
       "8             Non-government                     Individuals   \n",
       "9             Non-government            Other non-government   \n",
       "10            Non-government  Private health insurance funds   \n",
       "11                Government           Australian Government   \n",
       "12            Non-government                     Individuals   \n",
       "13                Government           Australian Government   \n",
       "14                Government                 State and local   \n",
       "15            Non-government            Other non-government   \n",
       "16                Government           Australian Government   \n",
       "17                Government                 State and local   \n",
       "18            Non-government  Private health insurance funds   \n",
       "19                Government           Australian Government   \n",
       "20                Government                 State and local   \n",
       "21            Non-government                     Individuals   \n",
       "22            Non-government            Other non-government   \n",
       "23            Non-government  Private health insurance funds   \n",
       "24                Government           Australian Government   \n",
       "25            Non-government                     Individuals   \n",
       "26                Government           Australian Government   \n",
       "27            Non-government                     Individuals   \n",
       "28            Non-government            Other non-government   \n",
       "29            Non-government  Private health insurance funds   \n",
       "...                      ...                             ...   \n",
       "6748          Non-government            Other non-government   \n",
       "6749          Non-government  Private health insurance funds   \n",
       "6750              Government           Australian Government   \n",
       "6751              Government                 State and local   \n",
       "6752          Non-government                     Individuals   \n",
       "6753          Non-government            Other non-government   \n",
       "6754          Non-government  Private health insurance funds   \n",
       "6755              Government           Australian Government   \n",
       "6756              Government                 State and local   \n",
       "6757          Non-government                     Individuals   \n",
       "6758          Non-government            Other non-government   \n",
       "6759          Non-government  Private health insurance funds   \n",
       "6760              Government           Australian Government   \n",
       "6761              Government                 State and local   \n",
       "6762          Non-government                     Individuals   \n",
       "6763          Non-government            Other non-government   \n",
       "6764          Non-government  Private health insurance funds   \n",
       "6765              Government           Australian Government   \n",
       "6766              Government                 State and local   \n",
       "6767          Non-government                     Individuals   \n",
       "6768          Non-government            Other non-government   \n",
       "6769              Government           Australian Government   \n",
       "6770              Government                 State and local   \n",
       "6771          Non-government                     Individuals   \n",
       "6772          Non-government            Other non-government   \n",
       "6773          Non-government  Private health insurance funds   \n",
       "6774              Government           Australian Government   \n",
       "6775              Government                 State and local   \n",
       "6776          Non-government                     Individuals   \n",
       "6777          Non-government            Other non-government   \n",
       "\n",
       "      real_expenditure_millions  \n",
       "0                         315.0  \n",
       "1                         120.0  \n",
       "2                         314.0  \n",
       "3                          65.0  \n",
       "4                         168.0  \n",
       "5                          18.0  \n",
       "6                          78.0  \n",
       "7                           5.0  \n",
       "8                         559.0  \n",
       "9                          16.0  \n",
       "10                         16.0  \n",
       "11                       1068.0  \n",
       "12                        221.0  \n",
       "13                         19.0  \n",
       "14                        420.0  \n",
       "15                        464.0  \n",
       "16                        225.0  \n",
       "17                        504.0  \n",
       "18                          1.0  \n",
       "19                         60.0  \n",
       "20                        156.0  \n",
       "21                       1023.0  \n",
       "22                          6.0  \n",
       "23                        351.0  \n",
       "24                         84.0  \n",
       "25                        -84.0  \n",
       "26                       4298.0  \n",
       "27                        522.0  \n",
       "28                        322.0  \n",
       "29                        112.0  \n",
       "...                         ...  \n",
       "6748                       14.0  \n",
       "6749                        5.0  \n",
       "6750                        8.0  \n",
       "6751                        6.0  \n",
       "6752                       25.0  \n",
       "6753                        7.0  \n",
       "6754                        3.0  \n",
       "6755                       11.0  \n",
       "6756                       58.0  \n",
       "6757                        0.0  \n",
       "6758                        1.0  \n",
       "6759                        0.0  \n",
       "6760                       12.0  \n",
       "6761                        1.0  \n",
       "6762                       27.0  \n",
       "6763                        6.0  \n",
       "6764                       24.0  \n",
       "6765                       35.0  \n",
       "6766                       80.0  \n",
       "6767                        0.0  \n",
       "6768                        0.0  \n",
       "6769                      202.0  \n",
       "6770                      453.0  \n",
       "6771                        6.0  \n",
       "6772                        2.0  \n",
       "6773                        1.0  \n",
       "6774                       81.0  \n",
       "6775                       35.0  \n",
       "6776                        0.0  \n",
       "6777                        1.0  \n",
       "\n",
       "[6778 rows x 6 columns]"
      ]
     },
     "execution_count": 11,
     "metadata": {},
     "output_type": "execute_result"
    }
   ],
   "source": [
    "#  1.From the above graph it is pretty evident that New South wales's health expenses are maximum and \n",
    "#  have been growing up since 1997-98\n",
    "#  2.Followed by South Australia and then Queensland\n",
    "# let's ge the better idea and try to explore this graph using regression plot\n",
    "#df.drop(df.tail(300).index,inplace=True) # drop last n rows\n",
    "df.dropna()\n",
    "df.dropna(how='all')"
   ]
  },
  {
   "cell_type": "code",
   "execution_count": 24,
   "metadata": {},
   "outputs": [
    {
     "data": {
      "text/plain": [
       "Text(0.5,1,'Scattered Plot Years Vs Money spent by the Various sectors')"
      ]
     },
     "execution_count": 24,
     "metadata": {},
     "output_type": "execute_result"
    },
    {
     "data": {
      "image/png": "[encoded data removed]",
      "text/plain": [
       "<Figure size 432x288 with 1 Axes>"
      ]
     },
     "metadata": {
      "needs_background": "light"
     },
     "output_type": "display_data"
    }
   ],
   "source": [
    "\n",
    "fig, ax = plt.subplots()\n",
    "#scatter plot with x and y axis respectively\n",
    "Scatter_plot = ax.scatter( group['Year'],\n",
    "                         group['Expenses']) \n",
    "#Scatter_plot\n",
    "ax.set_xlabel('Year') #labelling x axis\n",
    "ax.set_ylabel('Expenses in Million')  #labelling y axis\n",
    "ax.set_title('Scattered Plot Years Vs Money spent by the Various sectors') #setting title for the scattered plot\n",
    "#plt.show()"
   ]
  },
  {
   "cell_type": "markdown",
   "metadata": {},
   "source": [
    "1. Purpose of data: From the the above visualisation it is perceptible that the data is related to the Heath.\n",
    "\n",
    "   The data is retrieved from:https://data.gov.au/dataset/ds-dga-f84b9baf-c1c1-437c-8c1e-654b2829848c/details?q=health\n",
    "   \n",
    "   \n",
    "     It consists of information regdaring the expenditure of the Government of Australia in Health sector in all \n",
    "     eight State     \n",
    "     The data is catagories as per financial year starting from 1997 till 2012.\n",
    "     The funding done by the private or public sector is also listed.\n",
    "     The term ‘health expenditure’ in this context relates to all funds given to, or for, providers of health goods and services. It includes the funds provided by the Australian Government to the state and territory governments, as well as the funds provided by the state and territory governments to providers.\n",
    "   \n",
    "    \n"
   ]
  },
  {
   "cell_type": "markdown",
   "metadata": {},
   "source": [
    "2. Ethical and Privacy Issues: The issues with the dataset could be when a person's health data is shared without his/her consent.By doing so the government is not only voilating the privacy of that indivdual but also breaking the trust.\n",
    "\n",
    "    This may refrain patient from sharing their data accuratly.\n",
    "    \n",
    "   The Health Insurance Portability and Accountability Act (HIPAA), published in 1996, is the core set of healthcare IT data standards in the USA. The HIPAA Rules regulate the use and disclosure of personal health information (PHI) and establish national standards to protect individuals’ electronic PHI from data theft. The Health Information Technology for Economic and Clinical Health Act (HITECH Act), adopted in 2009, is aimed to “improve health care quality, safety, and efficiency through the promotion of health IT, including electronic health records and private and secure. Such approach can heal ecuring the data from theift and to gain trust of the people.\n",
    "\n"
   ]
  },
  {
   "cell_type": "markdown",
   "metadata": {},
   "source": [
    "3.Environmental Benefit: It could be seen from the scattered plot that year by year the expenses are increading for health sector for almost all the sates.\n",
    "    Which in a way also signifies that the government is spending handsome mount of money in this sector and want to make sure that the people of the country remains healthy. This can be considered as people remains healthy and hence the envirnament aroundd them aslo remain toxic free."
   ]
  },
  {
   "cell_type": "markdown",
   "metadata": {},
   "source": [
    "4.Socail Benefits: data cleaning; data formatting; the integration of different sources into a comprehensive data set; and storage using third-party tools to facilitate access and shareability could help the society and can give them easy access to the data"
   ]
  },
  {
   "cell_type": "markdown",
   "metadata": {},
   "source": [
    "5.Health benefit: Healthcare data sets include vast amount of medical data, various measurements, financial data, statistical data, demographics of specific populations, and insurance data, to name just a few, gathered from various healthcare data sources. Due to the diversity of healthcare data sources data standardization is a key pillar for efficient and meaningful use of the information and collaboration of healthcare professionals, care providers, insurers, and government agencies. The data which i have extracted is giving the idea about the expenses and the statistics of it on yearly basis"
   ]
  },
  {
   "cell_type": "markdown",
   "metadata": {},
   "source": [
    "6.Commercial Benefit: Most of the companies have the commerical data which being collected, but it is important to utilise it in proper manner the identification of the key groups with precision play a vital role. If the data of governement of Australia Health expenditure is analysed deeply and compbined wtith some other set of data it can reveal lot of valuable information. With this in-depth knowledge, organizations can tailor services and products to customer groups, and help profit margins flourish."
   ]
  },
  {
   "cell_type": "code",
   "execution_count": 76,
   "metadata": {
    "scrolled": true
   },
   "outputs": [
    {
     "data": {
      "text/plain": [
       "<matplotlib.axes._subplots.AxesSubplot at 0x1b4ca9785c0>"
      ]
     },
     "execution_count": 76,
     "metadata": {},
     "output_type": "execute_result"
    },
    {
     "data": {
      "image/png": "[encoded data removed]",
      "text/plain": [
       "<Figure size 432x288 with 1 Axes>"
      ]
     },
     "metadata": {},
     "output_type": "display_data"
    }
   ],
   "source": [
    "pd.value_counts(df.financial_year).plot(kind = 'bar')\n",
    "#response count for each financial year"
   ]
  },
  {
   "cell_type": "code",
   "execution_count": null,
   "metadata": {},
   "outputs": [],
   "source": []
  },
  {
   "cell_type": "code",
   "execution_count": null,
   "metadata": {},
   "outputs": [],
   "source": []
  },
  {
   "cell_type": "code",
   "execution_count": null,
   "metadata": {},
   "outputs": [],
   "source": []
  }
 ],
 "metadata": {
  "kernelspec": {
   "display_name": "Python 3",
   "language": "python",
   "name": "python3"
  },
  "language_info": {
   "codemirror_mode": {
    "name": "ipython",
    "version": 3
   },
   "file_extension": ".py",
   "mimetype": "text/x-python",
   "name": "python",
   "nbconvert_exporter": "python",
   "pygments_lexer": "ipython3",
   "version": "3.7.0"
  }
 },
 "nbformat": 4,
 "nbformat_minor": 1
}
